{
 "cells": [
  {
   "cell_type": "code",
   "execution_count": 1,
   "metadata": {},
   "outputs": [],
   "source": [
    "import pandas as pd\n",
    "import numpy as np\n",
    "from scipy.stats import stats\n",
    "import matplotlib.pyplot as plt\n",
    "\n",
    "Down_Samp = pd.read_csv('Down_Sampled.csv',parse_dates=['datetime'])\n",
    "Reg_Samp = pd.read_csv('Reg_Sampled.csv',parse_dates=['datetime'])\n",
    "\n",
    "# Down_Samp.columns\n",
    "Reg_Samp = Reg_Samp.set_index(Reg_Samp['datetime'])\n",
    "Down_Samp = Down_Samp.set_index(Reg_Samp['datetime'])\n",
    "# plt.plt()"
   ]
  },
  {
   "cell_type": "code",
   "execution_count": 2,
   "metadata": {},
   "outputs": [],
   "source": [
    "# plt.figure()\n",
    "# Valid = \n",
    "Reg_Samp_Sel = Reg_Samp.loc[((Reg_Samp['co2_flux'].isnull()==False)&\n",
    "                        (Reg_Samp['co2_flux'].index.month==7)&\n",
    "                        (Reg_Samp['co2_flux'].index.day>12)\n",
    "                        )]\n",
    "Down_Samp_Sel = Down_Samp.loc[((Down_Samp['co2_flux'].isnull()==False)&\n",
    "                          (Down_Samp['co2_flux'].index.month==7)&\n",
    "                          (Down_Samp['co2_flux'].index.day>12)\n",
    "                          )]\n",
    "# Down_Samp.index.min()"
   ]
  },
  {
   "cell_type": "code",
   "execution_count": 3,
   "metadata": {},
   "outputs": [],
   "source": [
    "Temp = Reg_Samp_Sel[['co2_flux','ch4_flux']]\n",
    "Temp2 = Down_Samp_Sel[['co2_flux','ch4_flux']]\n",
    "Temp2 = Temp2.rename(columns={'co2_flux':'co2_flux_1hz',\n",
    "                              'ch4_flux':'ch4_flux_1hz'})\n",
    "Temp3 = Temp[['co2_flux','ch4_flux']].join(Temp2[['co2_flux_1hz','ch4_flux_1hz']])"
   ]
  },
  {
   "cell_type": "code",
   "execution_count": 16,
   "metadata": {},
   "outputs": [
    {
     "name": "stdout",
     "output_type": "stream",
     "text": [
      "         ch4_flux  ch4_flux_1hz\n",
      "count  319.000000    319.000000\n",
      "mean    39.590145     39.399897\n",
      "std     11.167116     11.774948\n",
      "min      7.011556      8.515977\n",
      "25%     31.705793     31.033593\n",
      "50%     40.130433     40.444852\n",
      "75%     48.307843     47.876630\n",
      "max     68.343799     70.694836\n",
      "Ttest_indResult(statistic=0.2093848612301961, pvalue=0.8342148591807327)\n",
      "         co2_flux  co2_flux_1hz\n",
      "count  706.000000    706.000000\n",
      "mean    -1.194538     -1.195691\n",
      "std      1.485263      1.481493\n",
      "min     -4.544352     -4.548428\n",
      "25%     -2.329876     -2.332361\n",
      "50%     -1.398609     -1.395868\n",
      "75%      0.144835      0.155267\n",
      "max      2.325714      2.466699\n",
      "Ttest_indResult(statistic=0.014603863813846074, pvalue=0.9883502827338556)\n"
     ]
    }
   ],
   "source": [
    "\n",
    "Temp4= Temp3[['ch4_flux','ch4_flux_1hz']].dropna()*1e3\n",
    "print(Temp4.describe())\n",
    "print(stats.ttest_ind(Temp4['ch4_flux'].values,Temp4['ch4_flux_1hz'].values))\n",
    "\n",
    "\n",
    "Temp5= Temp3[['co2_flux','co2_flux_1hz']].dropna()\n",
    "print(Temp5.describe())\n",
    "print(stats.ttest_ind(Temp5['co2_flux'].values,Temp5['co2_flux_1hz'].values))"
   ]
  },
  {
   "cell_type": "code",
   "execution_count": 15,
   "metadata": {},
   "outputs": [
    {
     "data": {
      "image/png": "[encoded data removed]",
      "text/plain": [
       "<Figure size 432x360 with 2 Axes>"
      ]
     },
     "metadata": {
      "needs_background": "light"
     },
     "output_type": "display_data"
    }
   ],
   "source": [
    "\n",
    "import matplotlib as mpl\n",
    "mpl.rcParams[\"mathtext.default\"] = 'regular'\n",
    "\n",
    "fig,ax=plt.subplots(1,2,figsize = (6,5))\n",
    "Temp3[['co2_flux','co2_flux_1hz']].boxplot(ax=ax[0])\n",
    "(Temp3[['ch4_flux','ch4_flux_1hz']]*1e3).boxplot(ax=ax[1])\n",
    "ax[0].set_title(r'a.${CO_2}$ Flux ',loc='left')\n",
    "ax[1].set_title(r'b.${CH_4}$ Flux ',loc='left')\n",
    "ax[0].set_ylabel('umol m-2 s-1')\n",
    "ax[1].set_ylabel('nmol m-2 s-1')\n",
    "ax[0].set_xticklabels(['10 Hz','1 Hz'])\n",
    "ax[1].set_xticklabels(['10 Hz','1 Hz'])\n",
    "plt.tight_layout()\n",
    "plt.savefig('Frequency.jpg',dpi=600)"
   ]
  },
  {
   "cell_type": "code",
   "execution_count": 6,
   "metadata": {},
   "outputs": [],
   "source": [
    "# Reg_Samp_Sel2 = Reg_Samp.loc[Reg_Samp['ch4_flux'].isnull()==False]\n",
    "\n",
    "# Reg_Samp_Sel2.columns"
   ]
  }
 ],
 "metadata": {
  "kernelspec": {
   "display_name": "Python 3",
   "language": "python",
   "name": "python3"
  },
  "language_info": {
   "codemirror_mode": {
    "name": "ipython",
    "version": 3
   },
   "file_extension": ".py",
   "mimetype": "text/x-python",
   "name": "python",
   "nbconvert_exporter": "python",
   "pygments_lexer": "ipython3",
   "version": "3.7.6"
  }
 },
 "nbformat": 4,
 "nbformat_minor": 4
}
