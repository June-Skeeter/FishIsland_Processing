{
 "cells": [
  {
   "cell_type": "code",
   "execution_count": 1,
   "id": "0cefd850",
   "metadata": {},
   "outputs": [
    {
     "data": {
      "text/html": [
       "<div>\n",
       "<style scoped>\n",
       "    .dataframe tbody tr th:only-of-type {\n",
       "        vertical-align: middle;\n",
       "    }\n",
       "\n",
       "    .dataframe tbody tr th {\n",
       "        vertical-align: top;\n",
       "    }\n",
       "\n",
       "    .dataframe thead th {\n",
       "        text-align: right;\n",
       "    }\n",
       "</style>\n",
       "<table border=\"1\" class=\"dataframe\">\n",
       "  <thead>\n",
       "    <tr style=\"text-align: right;\">\n",
       "      <th></th>\n",
       "      <th>NDSI_Snow_Cover</th>\n",
       "    </tr>\n",
       "    <tr>\n",
       "      <th>datetime</th>\n",
       "      <th></th>\n",
       "    </tr>\n",
       "  </thead>\n",
       "  <tbody>\n",
       "    <tr>\n",
       "      <th>2008-01-01</th>\n",
       "      <td>NaN</td>\n",
       "    </tr>\n",
       "    <tr>\n",
       "      <th>2008-01-02</th>\n",
       "      <td>NaN</td>\n",
       "    </tr>\n",
       "    <tr>\n",
       "      <th>2008-01-03</th>\n",
       "      <td>NaN</td>\n",
       "    </tr>\n",
       "    <tr>\n",
       "      <th>2008-01-04</th>\n",
       "      <td>NaN</td>\n",
       "    </tr>\n",
       "    <tr>\n",
       "      <th>2008-01-05</th>\n",
       "      <td>NaN</td>\n",
       "    </tr>\n",
       "    <tr>\n",
       "      <th>...</th>\n",
       "      <td>...</td>\n",
       "    </tr>\n",
       "    <tr>\n",
       "      <th>2021-04-25</th>\n",
       "      <td>NaN</td>\n",
       "    </tr>\n",
       "    <tr>\n",
       "      <th>2021-04-26</th>\n",
       "      <td>72.502</td>\n",
       "    </tr>\n",
       "    <tr>\n",
       "      <th>2021-04-27</th>\n",
       "      <td>81.507</td>\n",
       "    </tr>\n",
       "    <tr>\n",
       "      <th>2021-04-28</th>\n",
       "      <td>85.642</td>\n",
       "    </tr>\n",
       "    <tr>\n",
       "      <th>2021-04-29</th>\n",
       "      <td>85.140</td>\n",
       "    </tr>\n",
       "  </tbody>\n",
       "</table>\n",
       "<p>4857 rows × 1 columns</p>\n",
       "</div>"
      ],
      "text/plain": [
       "            NDSI_Snow_Cover\n",
       "datetime                   \n",
       "2008-01-01              NaN\n",
       "2008-01-02              NaN\n",
       "2008-01-03              NaN\n",
       "2008-01-04              NaN\n",
       "2008-01-05              NaN\n",
       "...                     ...\n",
       "2021-04-25              NaN\n",
       "2021-04-26           72.502\n",
       "2021-04-27           81.507\n",
       "2021-04-28           85.642\n",
       "2021-04-29           85.140\n",
       "\n",
       "[4857 rows x 1 columns]"
      ]
     },
     "execution_count": 1,
     "metadata": {},
     "output_type": "execute_result"
    }
   ],
   "source": [
    "import numpy as np\n",
    "import pandas as pd\n",
    "import matplotlib.pyplot as plt\n",
    "%matplotlib inline\n",
    "\n",
    "Data = pd.read_csv('Taglu_Daily.csv',index_col='datetime',parse_dates={'datetime':['Year','Month','Day']})\n",
    "\n",
    "Snow = pd.read_csv('C:\\\\Users\\\\User\\\\Google Drive\\\\earthengine/NDSI_FP_New (1).csv',\n",
    "                   na_values='-9999',index_col='datetime',parse_dates={'datetime':['date']})\n",
    "# NDVI.columns#['ndvi_FI']\n",
    "\n",
    "\n",
    "NDVI = pd.read_csv('C:\\\\Users\\\\User\\\\Google Drive\\\\earthengine/NDVI_NBAR_FP_New (1).csv',\n",
    "                   na_values='-9999',index_col='datetime',parse_dates={'datetime':['date']})\n",
    "\n",
    "\n",
    "\n",
    "Snow = pd.read_csv('Snow_Cover.csv',\n",
    "                   na_values='-9999',index_col='datetime',parse_dates={'datetime':['Date']})\n",
    "Snow"
   ]
  },
  {
   "cell_type": "code",
   "execution_count": 275,
   "id": "5c80cf7d",
   "metadata": {
    "scrolled": true
   },
   "outputs": [
    {
     "data": {
      "text/plain": [
       "<matplotlib.collections.PolyCollection at 0x17d19154b80>"
      ]
     },
     "execution_count": 275,
     "metadata": {},
     "output_type": "execute_result"
    },
    {
     "data": {
      "image/png": "[encoded data removed]",
      "text/plain": [
       "<Figure size 432x288 with 2 Axes>"
      ]
     },
     "metadata": {
      "needs_background": "light"
     },
     "output_type": "display_data"
    }
   ],
   "source": [
    "fig,ax=plt.subplots(2,1,sharex=True)\n",
    "\n",
    "# Med = Data.groupby(Data.index.dayofyear).mean()[['Air Temp','Net SW Radiation']]\n",
    "# Q25 = Data.groupby(Data.index.dayofyear).quantile(.25)[['Air Temp','Net SW Radiation']]\n",
    "# Q75 = Data.groupby(Data.index.dayofyear).quantile(.75)[['Air Temp','Net SW Radiation']]\n",
    "# Meds = Data.groupby(Data.index.dayofyear).std()[['Air Temp','Net SW Radiation']]\n",
    "# Medc = Data.groupby(Data.index.dayofyear).count()[['Air Temp','Net SW Radiation']]\n",
    "# print(Q25.index)\n",
    "# ax[0].plot(Med['Net SW Radiation'])\n",
    "# ax[0].fill_between(Med.index, Med['Net SW Radiation']+Meds['Net SW Radiation']/(Medc['Net SW Radiation']**.5)\n",
    "#                    , Med['Net SW Radiation']-Meds['Net SW Radiation']/(Medc['Net SW Radiation']**.5), alpha=0.2)\n",
    "\n",
    "Snow.loc[Snow['NDSI_FI']<=0]=0\n",
    "Med = Snow['NDSI_FI'].groupby(Snow.index.month).median()#.rolling(7,center=True).mean()\n",
    "Q25 = Snow['NDSI_FI'].groupby(Snow.index.month).quantile(.25)#.rolling(7,center=True).mean()\n",
    "Q75 = Snow['NDSI_FI'].groupby(Snow.index.month).quantile(.75)#.rolling(7,center=True).mean()\n",
    "ax[1].plot(Med)\n",
    "ax[1].fill_between(Q25.index.astype(float), Q25, Q75, alpha=0.2)\n",
    "\n",
    "\n",
    "# Med = NDVI.groupby(NDVI.index.dayofyear).median()['ndvi_FI']#.rolling(7,center=True).mean()\n",
    "# Q25 = NDVI.groupby(NDVI.index.dayofyear).quantile(.25)['ndvi_FI']#.rolling(7,center=True).mean()\n",
    "# Q75 = NDVI.groupby(NDVI.index.dayofyear).quantile(.75)['ndvi_FI']#.rolling(7,center=True).mean()\n",
    "\n",
    "# ax[1].plot(Med)\n",
    "# ax[1].fill_between(Q25.index.astype(float), Q25, Q75, alpha=0.2,color='green')"
   ]
  },
  {
   "cell_type": "code",
   "execution_count": 126,
   "id": "c03c3501",
   "metadata": {},
   "outputs": [
    {
     "name": "stdout",
     "output_type": "stream",
     "text": [
      "Int64Index([274], dtype='int64', name='datetime')\n",
      "Int64Index([243], dtype='int64', name='datetime')\n",
      "Int64Index([166], dtype='int64', name='datetime')\n",
      "Int64Index([135], dtype='int64', name='datetime')\n"
     ]
    }
   ],
   "source": [
    "print(Data.loc[Data.index=='2017-10-1'].index.dayofyear)\n",
    "print(Data.loc[Data.index=='2017-08-31'].index.dayofyear)\n",
    "print(Data.loc[Data.index=='2017-06-15'].index.dayofyear)\n",
    "print(Data.loc[Data.index=='2017-05-15'].index.dayofyear)"
   ]
  },
  {
   "cell_type": "code",
   "execution_count": 6,
   "id": "9c3403e5",
   "metadata": {},
   "outputs": [
    {
     "name": "stderr",
     "output_type": "stream",
     "text": [
      "C:\\Users\\User\\AppData\\Local\\Temp/ipykernel_19948/1338498776.py:87: UserWarning: FixedFormatter should only be used together with FixedLocator\n",
      "  ax.set_xticklabels(Months,minor=True)\n"
     ]
    },
    {
     "data": {
      "image/png": "[encoded data removed]",
      "text/plain": [
       "<Figure size 432x216 with 2 Axes>"
      ]
     },
     "metadata": {
      "needs_background": "light"
     },
     "output_type": "display_data"
    }
   ],
   "source": [
    "\n",
    "\n",
    "fig,ax = plt.subplots(1,1,figsize=(6,3),sharex=True)\n",
    "\n",
    "\n",
    "axes = [ax]#es[0]\n",
    "\n",
    "# Data = Data.resample('7D').mean()\n",
    "Year = Data.groupby(Data.index.month).mean()#.rolling(7).mean()#$.resample('7D').mean()\n",
    "Year['AirS'] = Data.groupby(Data.index.month).std()['Air Temp']\n",
    "Year['SWS'] = Data.groupby(Data.index.month).std()['Net Radiation']\n",
    "\n",
    "Year['NDVI'] = NDVI['ndvi_FI'].groupby(NDVI.index.month).mean()\n",
    "Year['NDVIS'] =  NDVI['ndvi_FI'].groupby(NDVI.index.month).std()\n",
    "Year['NSDI'] = Snow['NDSI_Snow_Cover'].groupby(Snow.index.month).mean()\n",
    "Year['NSDIS'] =  Snow['NDSI_Snow_Cover'].groupby(Snow.index.month).std()\n",
    "\n",
    "Year['NSDI']*=[np.nan,1,1,1,1,1,1,1,1,1,1,np.nan]\n",
    "# Med*=[np.nan,1,1,1,1,1,1,1,1,1,1,np.nan]\n",
    "# Q25*=[np.nan,1,1,1,1,1,1,1,1,1,1,np.nan]\n",
    "# Q75*=[np.nan,1,1,1,1,1,1,1,1,1,1,np.nan]\n",
    "\n",
    "Year.index+=.5\n",
    "\n",
    "ax.errorbar(Year.index,Year['Air Temp'],yerr=Year['AirS'],color='k',label='Temperature',\n",
    "            capsize=5, elinewidth=1,marker='o')\n",
    "ax.plot([0,13],[0,0],linestyle=':',color='k')\n",
    "\n",
    "# ax1 = axes[0].twinx()\n",
    "# ax1.errorbar(Year.index,Year['Net Radiation'],yerr=Year['SWS'],color='k',label='NR',\n",
    "#             capsize=5, elinewidth=1,marker='o')\n",
    "\n",
    "# ax.errorbar(Year.index,Year['Air Temp'],yerr=Year['AirS'],color='k',label='Temperature',\n",
    "#             capsize=5, elinewidth=1,marker='o')\n",
    "\n",
    "ax2= axes[0].twinx()\n",
    "ax2.errorbar(Year.index,Year['NSDI'],yerr=Year['NSDIS'],label='NSDI',color='blue',\n",
    "             capsize=5, elinewidth=1,marker='o')\n",
    "\n",
    "# ax2.plot(Med.index+.5,Med)\n",
    "# ax2.fill_between(Q25.index.astype(float)+.5, Q25, Q75, alpha=0.2)\n",
    "\n",
    "# ax22=ax2.twinx()\n",
    "# ax22.errorbar(Year.index,Year['NSDI'],yerr=Year['NSDIS'],label='NSDI',color='blue',\n",
    "#               capsize=5, elinewidth=1,marker='o')\n",
    "# ax.errorbar(Year.index*np.nan,Year['NSDI'],yerr=Year['NSDIS'],label='NSDI',color='blue',\n",
    "#               capsize=5, elinewidth=1)\n",
    "\n",
    "# ax.legend()\n",
    "\n",
    "Spring=135/365*13\n",
    "Summer=166/365*13\n",
    "Fall=243/365*13\n",
    "Winter=274/365*13\n",
    "\n",
    "\n",
    "Spring=5.5#135/365*13\n",
    "Summer=6.5#166/365*13\n",
    "Fall=9#243/365*13\n",
    "Winter=10#274/365*13\n",
    "\n",
    "\n",
    "\n",
    "ax.axvspan(0, Spring, alpha=0.25, color=[.9,.9,.9])\n",
    "ax.axvspan(Spring, Summer, alpha=0.25, color='blue')\n",
    "ax.axvspan(Summer, Fall, alpha=0.25, color='green')\n",
    "ax.axvspan(Fall, Winter, alpha=0.25, color='orange')\n",
    "ax.axvspan(Winter, 13, alpha=0.25, color=[.9,.9,.9])\n",
    "\n",
    "\n",
    "ax2.axvspan(0, Spring, alpha=0.25, color=[.9,.9,.9])\n",
    "ax2.axvspan(Spring, Summer, alpha=0.25, color='blue')\n",
    "ax2.axvspan(Summer, Fall, alpha=0.25, color='green')\n",
    "ax2.axvspan(Fall, Winter, alpha=0.25, color='orange')\n",
    "ax2.axvspan(Winter, 13, alpha=0.25, color=[.9,.9,.9])\n",
    "\n",
    "ax.set_xlim(1,13)\n",
    "ax.set_ylabel('Air Temperature ($^\\circ$C)',fontsize=12)\n",
    "# ax1.set_ylabel('Net Radiation W m$^{-2}$',fontsize=12)\n",
    "ax2.set_ylabel('NDSI Fractional Snow Cover',fontsize=12)\n",
    "\n",
    "\n",
    "Months = ['Jan','Feb','Mar','Apr','May','Jun','Jul','Aug','Sep','Oct','Nov','Dec']\n",
    "\n",
    "\n",
    "ax.set_xticks(np.arange(1,13))\n",
    "ax.set_xticklabels([])\n",
    "\n",
    "ax.set_xticklabels(Months,minor=True)\n",
    "ax.set_xticks(np.arange(1.5,13),minor=True)\n",
    "\n",
    "ax2.set_ylabel('NSDI',fontsize=12)\n",
    "\n",
    "ax.grid()\n",
    "# ax2.grid()\n",
    "# ax.\n",
    "ax2.set_ylim(0,100)\n",
    "\n",
    "# ax.set_title('a.',loc='left')\n",
    "# ax2.set_title('b.',loc='left')\n",
    "plt.tight_layout()\n",
    "plt.savefig('C:\\\\Users\\\\User\\\\Google Drive\\\\PhD_Thesis/Seasons.png',dpi=600)"
   ]
  },
  {
   "cell_type": "code",
   "execution_count": 263,
   "id": "e478d262",
   "metadata": {},
   "outputs": [
    {
     "name": "stdout",
     "output_type": "stream",
     "text": [
      "datetime\n",
      "2008-08-28    0.0\n",
      "2008-08-29    0.0\n",
      "2008-08-30    0.1\n",
      "2008-08-31    0.0\n",
      "2008-09-01    0.0\n",
      "             ... \n",
      "2020-12-27    NaN\n",
      "2020-12-28    NaN\n",
      "2020-12-29    NaN\n",
      "2020-12-30    NaN\n",
      "2020-12-31    NaN\n",
      "Name: Rainfall, Length: 4509, dtype: float64\n"
     ]
    }
   ],
   "source": [
    "# print(Data['Rainfall'])"
   ]
  },
  {
   "cell_type": "code",
   "execution_count": 264,
   "id": "2420289a",
   "metadata": {},
   "outputs": [
    {
     "name": "stderr",
     "output_type": "stream",
     "text": [
      "C:\\Users\\User\\AppData\\Local\\Temp/ipykernel_27220/1089671462.py:80: UserWarning: FixedFormatter should only be used together with FixedLocator\n",
      "  ax.set_xticklabels(Months,minor=True)\n"
     ]
    },
    {
     "data": {
      "image/png": "[encoded data removed]",
      "text/plain": [
       "<Figure size 432x288 with 2 Axes>"
      ]
     },
     "metadata": {
      "needs_background": "light"
     },
     "output_type": "display_data"
    }
   ],
   "source": [
    "fig,ax = plt.subplots(1,1,figsize=(6,4),sharex=True)\n",
    "axes = [ax]#es[0]\n",
    "\n",
    "# Data = Data.resample('7D').mean()\n",
    "Year = Data.groupby(Data.index.month).mean()#.rolling(7).mean()#$.resample('7D').mean()\n",
    "Year['AirS'] = Data.groupby(Data.index.month).std()['Air Temp']\n",
    "Year['Rainfall'] = Data.groupby(Data.index.month).sum()['Rainfall']\n",
    "Year['SWS'] = Data.groupby(Data.index.month).std()['Net Radiation']\n",
    "\n",
    "Year['NDVI'] = NDVI['ndvi_FI'].groupby(NDVI.index.month).mean()\n",
    "Year['NDVIS'] =  NDVI['ndvi_FI'].groupby(NDVI.index.month).std()\n",
    "Year['NSDI'] = Snow['NDSI_FI'].groupby(Snow.index.month).mean()\n",
    "Year['NSDIS'] =  Snow['NDSI_FI'].groupby(Snow.index.month).std()\n",
    "\n",
    "Year['NSDI']*=[np.nan,1,1,1,1,1,1,1,1,1,np.nan,np.nan]\n",
    "\n",
    "Year.index+=.5\n",
    "\n",
    "ax.errorbar(Year.index,Year['Air Temp'],yerr=Year['AirS'],color='k',label='Temperature',\n",
    "            capsize=5, elinewidth=1,marker='o')\n",
    "ax.plot([0,13],[0,0],linestyle=':',color='k')\n",
    "\n",
    "ax1 = axes[0].twinx()\n",
    "ax1.bar(Year.index,Year['Rainfall'])\n",
    "# ax1.errorbar(Year.index,Year['Net Radiation'],yerr=Year['SWS'],color='k',label='NR',\n",
    "#             capsize=5, elinewidth=1,marker='o')\n",
    "\n",
    "# ax.errorbar(Year.index,Year['Air Temp'],yerr=Year['AirS'],color='k',label='Temperature',\n",
    "#             capsize=5, elinewidth=1,marker='o')\n",
    "\n",
    "# ax2= axes[0].twinx()\n",
    "# ax2.errorbar(Year.index,Year['NDVI'],yerr=Year['NDVIS'],label='NDVI',color='green',\n",
    "#              capsize=5, elinewidth=1,marker='o')\n",
    "# # ax22=ax2.twinx()\n",
    "# # ax22.errorbar(Year.index,Year['NSDI'],yerr=Year['NSDIS'],label='NSDI',color='blue',\n",
    "# #               capsize=5, elinewidth=1,marker='o')\n",
    "# # ax.errorbar(Year.index*np.nan,Year['NSDI'],yerr=Year['NSDIS'],label='NSDI',color='blue',\n",
    "# #               capsize=5, elinewidth=1)\n",
    "\n",
    "# ax.legend()\n",
    "\n",
    "Spring=135/365*13\n",
    "Summer=166/365*13\n",
    "Fall=243/365*13\n",
    "Winter=274/365*13\n",
    "\n",
    "\n",
    "Spring=5.5#135/365*13\n",
    "Summer=6.5#166/365*13\n",
    "Fall=9#243/365*13\n",
    "Winter=10#274/365*13\n",
    "\n",
    "\n",
    "\n",
    "ax.axvspan(0, Spring, alpha=0.25, color=[.9,.9,.9])\n",
    "ax.axvspan(Spring, Summer, alpha=0.25, color='blue')\n",
    "ax.axvspan(Summer, Fall, alpha=0.25, color='green')\n",
    "ax.axvspan(Fall, Winter, alpha=0.25, color='orange')\n",
    "ax.axvspan(Winter, 13, alpha=0.25, color=[.9,.9,.9])\n",
    "\n",
    "\n",
    "ax2.axvspan(0, Spring, alpha=0.25, color=[.9,.9,.9])\n",
    "ax2.axvspan(Spring, Summer, alpha=0.25, color='blue')\n",
    "ax2.axvspan(Summer, Fall, alpha=0.25, color='green')\n",
    "ax2.axvspan(Fall, Winter, alpha=0.25, color='orange')\n",
    "ax2.axvspan(Winter, 13, alpha=0.25, color=[.9,.9,.9])\n",
    "\n",
    "ax.set_xlim(1,13)\n",
    "ax.set_ylabel('Air Temperature ($^\\circ$C)',fontsize=12)\n",
    "ax1.set_ylabel('Net Radiation W m$^{-2}$',fontsize=12)\n",
    "# ax22.set_ylabel('NDSI',fontsize=12)\n",
    "\n",
    "\n",
    "Months = ['Jan','Feb','Mar','Apr','May','Jun','Jul','Aug','Sep','Oct','Nov','Dec']\n",
    "\n",
    "\n",
    "ax.set_xticks(np.arange(1,13))\n",
    "ax.set_xticklabels([])\n",
    "\n",
    "ax.set_xticklabels(Months,minor=True)\n",
    "ax.set_xticks(np.arange(1.5,13),minor=True)\n",
    "\n",
    "ax2.set_ylabel('NDVI',fontsize=12)\n",
    "\n",
    "ax.grid()\n",
    "# ax2.grid()\n",
    "# ax.\n",
    "ax2.set_ylim(-.1,0.95)\n",
    "\n",
    "# ax.set_title('a.',loc='left')\n",
    "# ax2.set_title('b.',loc='left')\n",
    "plt.savefig('C:\\\\Users\\\\User\\\\Google Drive\\\\PhD_Thesis/Seasons.png',dpi=600)"
   ]
  },
  {
   "cell_type": "code",
   "execution_count": 93,
   "id": "1d0b27d5",
   "metadata": {},
   "outputs": [
    {
     "ename": "AttributeError",
     "evalue": "'DataFrame' object has no attribute 'Day'",
     "output_type": "error",
     "traceback": [
      "\u001b[1;31m---------------------------------------------------------------------------\u001b[0m",
      "\u001b[1;31mAttributeError\u001b[0m                            Traceback (most recent call last)",
      "\u001b[1;32m~\\AppData\\Local\\Temp/ipykernel_27220/3417294358.py\u001b[0m in \u001b[0;36m<module>\u001b[1;34m\u001b[0m\n\u001b[1;32m----> 1\u001b[1;33m \u001b[0mprint\u001b[0m\u001b[1;33m(\u001b[0m\u001b[0mData\u001b[0m\u001b[1;33m.\u001b[0m\u001b[0mloc\u001b[0m\u001b[1;33m[\u001b[0m\u001b[0mData\u001b[0m\u001b[1;33m.\u001b[0m\u001b[0mindex\u001b[0m\u001b[1;33m==\u001b[0m\u001b[1;34m'2017-10-4'\u001b[0m\u001b[1;33m]\u001b[0m\u001b[1;33m.\u001b[0m\u001b[0mDay\u001b[0m\u001b[1;33m)\u001b[0m\u001b[1;33m\u001b[0m\u001b[1;33m\u001b[0m\u001b[0m\n\u001b[0m\u001b[0;32m      2\u001b[0m \u001b[0mprint\u001b[0m\u001b[1;33m(\u001b[0m\u001b[0mData\u001b[0m\u001b[1;33m.\u001b[0m\u001b[0mloc\u001b[0m\u001b[1;33m[\u001b[0m\u001b[0mData\u001b[0m\u001b[1;33m.\u001b[0m\u001b[0mindex\u001b[0m\u001b[1;33m==\u001b[0m\u001b[1;34m'2017-08-31'\u001b[0m\u001b[1;33m]\u001b[0m\u001b[1;33m.\u001b[0m\u001b[0mDay\u001b[0m\u001b[1;33m)\u001b[0m\u001b[1;33m\u001b[0m\u001b[1;33m\u001b[0m\u001b[0m\n\u001b[0;32m      3\u001b[0m \u001b[0mprint\u001b[0m\u001b[1;33m(\u001b[0m\u001b[0mData\u001b[0m\u001b[1;33m.\u001b[0m\u001b[0mloc\u001b[0m\u001b[1;33m[\u001b[0m\u001b[0mData\u001b[0m\u001b[1;33m.\u001b[0m\u001b[0mindex\u001b[0m\u001b[1;33m==\u001b[0m\u001b[1;34m'2017-06-15'\u001b[0m\u001b[1;33m]\u001b[0m\u001b[1;33m.\u001b[0m\u001b[0mDay\u001b[0m\u001b[1;33m)\u001b[0m\u001b[1;33m\u001b[0m\u001b[1;33m\u001b[0m\u001b[0m\n\u001b[0;32m      4\u001b[0m \u001b[0mprint\u001b[0m\u001b[1;33m(\u001b[0m\u001b[0mData\u001b[0m\u001b[1;33m.\u001b[0m\u001b[0mloc\u001b[0m\u001b[1;33m[\u001b[0m\u001b[0mData\u001b[0m\u001b[1;33m.\u001b[0m\u001b[0mindex\u001b[0m\u001b[1;33m==\u001b[0m\u001b[1;34m'2017-05-15'\u001b[0m\u001b[1;33m]\u001b[0m\u001b[1;33m.\u001b[0m\u001b[0mDay\u001b[0m\u001b[1;33m)\u001b[0m\u001b[1;33m\u001b[0m\u001b[1;33m\u001b[0m\u001b[0m\n\u001b[0;32m      5\u001b[0m \u001b[1;31m# Data['Week']\u001b[0m\u001b[1;33m\u001b[0m\u001b[1;33m\u001b[0m\u001b[1;33m\u001b[0m\u001b[0m\n",
      "\u001b[1;32m~\\.conda\\envs\\geo-env\\lib\\site-packages\\pandas\\core\\generic.py\u001b[0m in \u001b[0;36m__getattr__\u001b[1;34m(self, name)\u001b[0m\n\u001b[0;32m   5476\u001b[0m         ):\n\u001b[0;32m   5477\u001b[0m             \u001b[1;32mreturn\u001b[0m \u001b[0mself\u001b[0m\u001b[1;33m[\u001b[0m\u001b[0mname\u001b[0m\u001b[1;33m]\u001b[0m\u001b[1;33m\u001b[0m\u001b[1;33m\u001b[0m\u001b[0m\n\u001b[1;32m-> 5478\u001b[1;33m         \u001b[1;32mreturn\u001b[0m \u001b[0mobject\u001b[0m\u001b[1;33m.\u001b[0m\u001b[0m__getattribute__\u001b[0m\u001b[1;33m(\u001b[0m\u001b[0mself\u001b[0m\u001b[1;33m,\u001b[0m \u001b[0mname\u001b[0m\u001b[1;33m)\u001b[0m\u001b[1;33m\u001b[0m\u001b[1;33m\u001b[0m\u001b[0m\n\u001b[0m\u001b[0;32m   5479\u001b[0m \u001b[1;33m\u001b[0m\u001b[0m\n\u001b[0;32m   5480\u001b[0m     \u001b[1;32mdef\u001b[0m \u001b[0m__setattr__\u001b[0m\u001b[1;33m(\u001b[0m\u001b[0mself\u001b[0m\u001b[1;33m,\u001b[0m \u001b[0mname\u001b[0m\u001b[1;33m:\u001b[0m \u001b[0mstr\u001b[0m\u001b[1;33m,\u001b[0m \u001b[0mvalue\u001b[0m\u001b[1;33m)\u001b[0m \u001b[1;33m->\u001b[0m \u001b[1;32mNone\u001b[0m\u001b[1;33m:\u001b[0m\u001b[1;33m\u001b[0m\u001b[1;33m\u001b[0m\u001b[0m\n",
      "\u001b[1;31mAttributeError\u001b[0m: 'DataFrame' object has no attribute 'Day'"
     ]
    }
   ],
   "source": [
    "\n",
    "# # Data['Week']\n",
    "# # Year = Data.groupby('Week').mean()\n",
    "# fig,ax= plt.subplots(1,1,figsize=(6,4))\n",
    "# ax.axvspan(0, 134, alpha=0.25, color=[.9,.9,.9])\n",
    "# ax.axvspan(134, 167, alpha=0.25, color='blue')\n",
    "# ax.axvspan(167, 243, alpha=0.25, color='green')\n",
    "# ax.axvspan(243, 277, alpha=0.25, color='orange')\n",
    "# ax.axvspan(277, 365, alpha=0.25, color=[.9,.9,.9])\n",
    "\n",
    "\n",
    "# ax.plot(Year['Air Temp'],color='k',label='Air Temperature')\n",
    "# ax.plot(Year['Air Temp']*0,color='k',linestyle=':')\n",
    "# # ax.grid()\n",
    "# ax.set_xlim(0,365)\n",
    "\n",
    "\n",
    "# # .plot()\n",
    "\n",
    "# # Year2['NDSI_Snow_Cover']-=Year2['NDSI_Snow_Cover'].min()\n",
    "# # Year2['NDSI_Snow_Cover']/=Year2['NDSI_Snow_Cover'].max()\n",
    "# x2 = ax.twinx()\n",
    "# x2.set_ylim(-.1,1)\n",
    "# x2.plot(Year2['NDVI_MODIS'],color='green',label='NDVI')\n",
    "# x2.plot(Year2['NDSI_Snow_Cover']/100,color='blue',label='NDVI')\n",
    "# x2.set_ylabel('NDVI / NSDI')\n",
    "# # x2.plot(Year2['NDVI_MODIS'],color='green',label='NDVI')\n",
    "# ax.plot(np.nan*Year2['NDSI_Snow_Cover'],color='Green',label='NDVI')\n",
    "# ax.plot(np.nan*Year2['NDSI_Snow_Cover'],color='blue',label='NDSI')\n",
    "# # ax.plot(np.nan*Year2['NDVI_MODIS'],color='green',label='NDVI')\n",
    "# # ax.plot(Year['Net Radiation'].rolling(7).mean()*np.nan,color='k',label='Net Radiation')\n",
    "# ax.legend()\n",
    "\n",
    "# ax.set_title('Seasonality at Fish Island (69.37$^\\circ$N,134.87$^\\circ$W)',loc='left',fontsize=14)\n",
    "# ax.set_xlabel('Day of Year')\n",
    "# ax.set_xticks(Pos)\n",
    "# ax.set_xticklabels(Months,horizontalalignment='left')#,rotation=15)\n",
    "# # # Year\n",
    "# # print(Year.loc[Year['Air Temp']>0])\n",
    "# # print(Data.loc[Data['Air Temp']>0].index.dayofyear)\n",
    "# plt.savefig('C:\\\\Users\\\\User\\\\Google Drive\\\\PhD_Thesis/Seasons.png',dpi=600)"
   ]
  },
  {
   "cell_type": "code",
   "execution_count": 302,
   "id": "5422b398",
   "metadata": {},
   "outputs": [
    {
     "data": {
      "text/plain": [
       "0.6082191780821918"
      ]
     },
     "execution_count": 302,
     "metadata": {},
     "output_type": "execute_result"
    }
   ],
   "source": [
    "\n",
    "# ax.axvspan(134, 167, alpha=0.25, color='blue')\n",
    "# ax.axvspan(, , alpha=0.25, color='green')\n",
    "# ax.axvspan(243, 277, alpha=0.25, color='orange')\n",
    "# ax.axvspan(277, , alpha=0.25, color=[.9,.9,.9])\n",
    "\n",
    "(365-277+134)/365\n",
    "\n",
    "# (243-167)/365"
   ]
  }
 ],
 "metadata": {
  "kernelspec": {
   "display_name": "geo-env",
   "language": "python",
   "name": "geo-env"
  },
  "language_info": {
   "codemirror_mode": {
    "name": "ipython",
    "version": 3
   },
   "file_extension": ".py",
   "mimetype": "text/x-python",
   "name": "python",
   "nbconvert_exporter": "python",
   "pygments_lexer": "ipython3",
   "version": "3.8.10"
  }
 },
 "nbformat": 4,
 "nbformat_minor": 5
}
