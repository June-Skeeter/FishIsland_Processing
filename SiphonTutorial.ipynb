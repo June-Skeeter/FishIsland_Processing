{
 "cells": [
  {
   "cell_type": "markdown",
   "metadata": {
    "slideshow": {
     "slide_type": "slide"
    }
   },
   "source": [
    "<center>\n",
    "<h1>Accessing THREDDS using Siphon</h1>\n",
    "<br>\n",
    "<h3>25 July 2017\n",
    "<br>\n",
    "<br>\n",
    "Ryan May (@dopplershift)\n",
    "<br><br>\n",
    "UCAR/Unidata<br>\n",
    "</h3>\n",
    "</center>"
   ]
  },
  {
   "cell_type": "markdown",
   "metadata": {
    "slideshow": {
     "slide_type": "slide"
    }
   },
   "source": [
    "\n",
    "# What is Siphon?\n",
    "\n",
    "* Python library for remote data access\n",
    "* Focus on atmospheric and oceanic data sources\n",
    "* Bulk of features focused on THREDDS"
   ]
  },
  {
   "cell_type": "markdown",
   "metadata": {
    "slideshow": {
     "slide_type": "subslide"
    }
   },
   "source": [
    "## Installing on Azure"
   ]
  },
  {
   "cell_type": "code",
   "execution_count": null,
   "metadata": {},
   "outputs": [],
   "source": [
    "!conda install --name root siphon -y -c conda-forge"
   ]
  },
  {
   "cell_type": "markdown",
   "metadata": {
    "slideshow": {
     "slide_type": "subslide"
    }
   },
   "source": [
    "## Functionality\n",
    "* THREDDS catalog parser\n",
    "* NetCDF Subset Service (NCSS) client\n",
    "* CDM Remote client\n",
    "* Radar Query Service client"
   ]
  },
  {
   "cell_type": "markdown",
   "metadata": {
    "slideshow": {
     "slide_type": "slide"
    }
   },
   "source": [
    "# THREDDS?\n",
    "* Server for data collections in various formats\n",
    "* Powered by netCDF-Java\n",
    "* Provides catalogs of data with metadata information\n",
    "* Programmatic access to data with various services"
   ]
  },
  {
   "cell_type": "markdown",
   "metadata": {
    "slideshow": {
     "slide_type": "subslide"
    }
   },
   "source": [
    "* Metadata services\n",
    "  - ISO\n",
    "  - UDDC\n",
    "  - NCML"
   ]
  },
  {
   "cell_type": "markdown",
   "metadata": {
    "slideshow": {
     "slide_type": "fragment"
    }
   },
   "source": [
    "* Download service (HTTPServer)"
   ]
  },
  {
   "cell_type": "markdown",
   "metadata": {
    "slideshow": {
     "slide_type": "fragment"
    }
   },
   "source": [
    "- Subsetting\n",
    "  * WMS/WCS\n",
    "  * OPeNDAP and CDMRemote\n",
    "  * NetCDF Subset Service (NCSS)"
   ]
  },
  {
   "cell_type": "markdown",
   "metadata": {
    "slideshow": {
     "slide_type": "subslide"
    }
   },
   "source": [
    "## THREDDS Demo\n",
    "http://thredds.ucar.edu"
   ]
  },
  {
   "cell_type": "markdown",
   "metadata": {
    "slideshow": {
     "slide_type": "slide"
    }
   },
   "source": [
    "# Siphon for THREDDS\n",
    "- Let's start by parsing a THREDDS catalog"
   ]
  },
  {
   "cell_type": "code",
   "execution_count": null,
   "metadata": {
    "slideshow": {
     "slide_type": "fragment"
    }
   },
   "outputs": [],
   "source": [
    "from siphon.catalog import TDSCatalog\n",
    "top_cat = TDSCatalog('http://thredds.ucar.edu/thredds/catalog.xml')"
   ]
  },
  {
   "cell_type": "markdown",
   "metadata": {
    "slideshow": {
     "slide_type": "fragment"
    }
   },
   "source": [
    "That takes care of download the catalog, parsing the XML, and doing useful things. From here we can do things like look at all the catalog references..."
   ]
  },
  {
   "cell_type": "code",
   "execution_count": null,
   "metadata": {
    "slideshow": {
     "slide_type": "subslide"
    }
   },
   "outputs": [],
   "source": [
    "for ref in top_cat.catalog_refs:\n",
    "    print(ref)"
   ]
  },
  {
   "cell_type": "markdown",
   "metadata": {
    "slideshow": {
     "slide_type": "fragment"
    }
   },
   "source": [
    "So we can see what's available at the top level. We can also extract exactly what we're looking for using the name of the item:"
   ]
  },
  {
   "cell_type": "code",
   "execution_count": null,
   "metadata": {},
   "outputs": [],
   "source": [
    "ref = top_cat.catalog_refs['Forecast Model Data']\n",
    "ref.href"
   ]
  },
  {
   "cell_type": "markdown",
   "metadata": {
    "slideshow": {
     "slide_type": "subslide"
    }
   },
   "source": [
    "Or we can just access by position:"
   ]
  },
  {
   "cell_type": "code",
   "execution_count": null,
   "metadata": {},
   "outputs": [],
   "source": [
    "ref = top_cat.catalog_refs[0]\n",
    "ref.href"
   ]
  },
  {
   "cell_type": "markdown",
   "metadata": {
    "slideshow": {
     "slide_type": "fragment"
    }
   },
   "source": [
    "and then resolve that catalog reference to get a new catalog."
   ]
  },
  {
   "cell_type": "code",
   "execution_count": null,
   "metadata": {},
   "outputs": [],
   "source": [
    "new_cat = ref.follow()\n",
    "list(new_cat.catalog_refs)"
   ]
  },
  {
   "cell_type": "markdown",
   "metadata": {
    "slideshow": {
     "slide_type": "subslide"
    }
   },
   "source": [
    "We can do this one more time, but instead of `catalog_refs`, we look at the `datasets` attribute to see the list of datasets available."
   ]
  },
  {
   "cell_type": "code",
   "execution_count": null,
   "metadata": {},
   "outputs": [],
   "source": [
    "gfs_cat = new_cat.catalog_refs[4].follow()\n",
    "list(gfs_cat.datasets)"
   ]
  },
  {
   "cell_type": "markdown",
   "metadata": {
    "slideshow": {
     "slide_type": "subslide"
    }
   },
   "source": [
    "`datasets` works just like `catalog_refs` in providing both name- and position-based access. Here we can access the first dataset in the catalog:"
   ]
  },
  {
   "cell_type": "code",
   "execution_count": null,
   "metadata": {},
   "outputs": [],
   "source": [
    "ds = gfs_cat.datasets[0]\n",
    "ds.name"
   ]
  },
  {
   "cell_type": "markdown",
   "metadata": {},
   "source": [
    "For catalogs that have a latest\" automatically updated, dataset, the attribute `latest` is available:"
   ]
  },
  {
   "cell_type": "code",
   "execution_count": null,
   "metadata": {},
   "outputs": [],
   "source": [
    "ds = gfs_cat.latest\n",
    "ds.name"
   ]
  },
  {
   "cell_type": "markdown",
   "metadata": {
    "slideshow": {
     "slide_type": "subslide"
    }
   },
   "source": [
    "Let's get a new catalog directly to some satellite data:\n",
    "http://thredds.ucar.edu/thredds/idd/satellite.html"
   ]
  },
  {
   "cell_type": "code",
   "execution_count": null,
   "metadata": {
    "scrolled": false
   },
   "outputs": [],
   "source": [
    "sat_cat = TDSCatalog('http://thredds.ucar.edu/thredds/catalog/'\n",
    "                     'satellite/3.9/WEST-CONUS_4km/current/catalog.xml')\n",
    "list(sat_cat.datasets)"
   ]
  },
  {
   "cell_type": "markdown",
   "metadata": {
    "slideshow": {
     "slide_type": "subslide"
    }
   },
   "source": [
    "Instead of accessing the dataset by name or position, we can also ask the collection of datasets to parse the filenames as datetimes and find:\n",
    "- those within a range\n",
    "- those closest to a time"
   ]
  },
  {
   "cell_type": "code",
   "execution_count": null,
   "metadata": {},
   "outputs": [],
   "source": [
    "from datetime import datetime, timedelta"
   ]
  },
  {
   "cell_type": "code",
   "execution_count": null,
   "metadata": {},
   "outputs": [],
   "source": [
    "# Look for all data within the last hour\n",
    "now = datetime.utcnow()\n",
    "l = sat_cat.datasets.filter_time_range(start=now - timedelta(hours=1),\n",
    "                                       end=now)\n",
    "[ds.name for ds in l]"
   ]
  },
  {
   "cell_type": "markdown",
   "metadata": {},
   "source": [
    "In this case, the filter resulted in a list of `Dataset` handles. If we look instead for the nearest to a time, we get a single `Dataset` handle:"
   ]
  },
  {
   "cell_type": "code",
   "execution_count": null,
   "metadata": {
    "slideshow": {
     "slide_type": "subslide"
    }
   },
   "outputs": [],
   "source": [
    "# Look for data from an hour ago\n",
    "dt = datetime.utcnow() - timedelta(hours=1)\n",
    "ds = sat_cat.datasets.filter_time_nearest(dt)\n",
    "ds.name"
   ]
  },
  {
   "cell_type": "markdown",
   "metadata": {},
   "source": [
    "We can use the dataset handle to look at the available access methods:"
   ]
  },
  {
   "cell_type": "code",
   "execution_count": null,
   "metadata": {
    "slideshow": {
     "slide_type": "subslide"
    }
   },
   "outputs": [],
   "source": [
    "ds.access_urls"
   ]
  },
  {
   "cell_type": "markdown",
   "metadata": {},
   "source": [
    "## Putting it together\n",
    "\n",
    "How would we use this? Let's say we wanted to write a script to download the latest global run of the Wave Watch 3 model (WW3), and plot the output. So far, we have enough to get to the proper dataset:"
   ]
  },
  {
   "cell_type": "code",
   "execution_count": null,
   "metadata": {},
   "outputs": [],
   "source": [
    "top_cat = TDSCatalog('http://thredds.ucar.edu/thredds/catalog.xml')\n",
    "models_cat = top_cat.catalog_refs[0].follow()\n",
    "ww3_cat = models_cat.catalog_refs['Wave Watch III Global'].follow()\n",
    "latest_ww3 = ww3_cat.latest\n",
    "print(latest_ww3.name)\n",
    "print(latest_ww3.access_urls)"
   ]
  },
  {
   "cell_type": "markdown",
   "metadata": {
    "slideshow": {
     "slide_type": "subslide"
    }
   },
   "source": [
    "## Exercise #1\n",
    "1. Using Siphon, navigate from the top-level THREDDS catalog at https://nomads.ncdc.noaa.gov/thredds/catalog.xml to the 3-hour NARR-A data from January 5th, 2014 (or another product or time of interest)\n",
    "1. Using Siphon, compare the available access methods (on http://thredds.ucar.edu) for:\n",
    "  - The \"Best GFS Quarter Degree Forecast Time Series\" (under \"Forecast Model Data\")\n",
    "  - A data file of \"NEXRAD Level II Radar WSR-88D\" (under \"Radar Data\")"
   ]
  },
  {
   "cell_type": "code",
   "execution_count": null,
   "metadata": {
    "slideshow": {
     "slide_type": "subslide"
    }
   },
   "outputs": [],
   "source": [
    "# Start here\n",
    "top_cat = TDSCatalog('https://nomads.ncdc.noaa.gov/thredds/catalog.xml')"
   ]
  },
  {
   "cell_type": "markdown",
   "metadata": {
    "slideshow": {
     "slide_type": "slide"
    }
   },
   "source": [
    "# Accessing data using Siphon\n",
    "Accessing catalogs is only part of the story; Siphon is much more useful if you're trying to access/download datasets."
   ]
  },
  {
   "cell_type": "markdown",
   "metadata": {
    "slideshow": {
     "slide_type": "subslide"
    }
   },
   "source": [
    "For instance going back to our satellite data from earlier:"
   ]
  },
  {
   "cell_type": "code",
   "execution_count": null,
   "metadata": {},
   "outputs": [],
   "source": [
    "# Same as before\n",
    "cat = TDSCatalog('http://thredds.ucar.edu/thredds/catalog/'\n",
    "                'satellite/3.9/WEST-CONUS_4km/current/'\n",
    "                'catalog.xml')\n",
    "ds = cat.datasets.filter_time_nearest(datetime.utcnow()\n",
    "                                      - timedelta(hours=1))"
   ]
  },
  {
   "cell_type": "markdown",
   "metadata": {
    "slideshow": {
     "slide_type": "fragment"
    }
   },
   "source": [
    "We can ask Siphon to download the file locally:"
   ]
  },
  {
   "cell_type": "code",
   "execution_count": null,
   "metadata": {},
   "outputs": [],
   "source": [
    "ds.download('data.gini')"
   ]
  },
  {
   "cell_type": "markdown",
   "metadata": {
    "slideshow": {
     "slide_type": "subslide"
    }
   },
   "source": [
    "Or better yet, get a file-like object that lets us `read` from the file as if it were local:"
   ]
  },
  {
   "cell_type": "code",
   "execution_count": null,
   "metadata": {},
   "outputs": [],
   "source": [
    "fobj = ds.remote_open()\n",
    "data = fobj.read()"
   ]
  },
  {
   "cell_type": "markdown",
   "metadata": {},
   "source": [
    "This is handy if you have Python code to read a particular format."
   ]
  },
  {
   "cell_type": "markdown",
   "metadata": {
    "slideshow": {
     "slide_type": "subslide"
    }
   },
   "source": [
    "It's also possible to get access to the file through services that provide netCDF4-like access, but for the remote file. This access allows downloading information only for variables of interest, or for (index-based) subsets of that data:"
   ]
  },
  {
   "cell_type": "code",
   "execution_count": null,
   "metadata": {},
   "outputs": [],
   "source": [
    "nc = ds.remote_access()"
   ]
  },
  {
   "cell_type": "markdown",
   "metadata": {},
   "source": [
    "By default this uses CDMRemote (if available), but it's also possible to ask for OPeNDAP (using netCDF4-python)."
   ]
  },
  {
   "cell_type": "markdown",
   "metadata": {
    "slideshow": {
     "slide_type": "subslide"
    }
   },
   "source": [
    "From here we can see what variables are available:"
   ]
  },
  {
   "cell_type": "code",
   "execution_count": null,
   "metadata": {},
   "outputs": [],
   "source": [
    "list(nc.variables)"
   ]
  },
  {
   "cell_type": "markdown",
   "metadata": {
    "slideshow": {
     "slide_type": "subslide"
    }
   },
   "source": [
    "Or get a subset of the values:"
   ]
  },
  {
   "cell_type": "code",
   "execution_count": null,
   "metadata": {},
   "outputs": [],
   "source": [
    "# Plot small sample image\n",
    "%matplotlib inline\n",
    "import matplotlib.pyplot as plt\n",
    "fig, ax = plt.subplots(1, 1, figsize=(6, 6))\n",
    "ax.imshow(nc.variables['IR'][0, ::10, ::10], cmap='Greys', interpolation='none')"
   ]
  },
  {
   "cell_type": "markdown",
   "metadata": {
    "slideshow": {
     "slide_type": "subslide"
    }
   },
   "source": [
    "## Exercise #2\n",
    "Using `remote_access`, plot a subset of data from the High Resolution Rapid Refresh (http://thredds.ucar.edu/thredds/catalog/grib/NCEP/HRRR/CONUS_2p5km/catalog.html). Pick any of the available collections or individual model runs."
   ]
  },
  {
   "cell_type": "code",
   "execution_count": null,
   "metadata": {
    "slideshow": {
     "slide_type": "subslide"
    }
   },
   "outputs": [],
   "source": []
  },
  {
   "cell_type": "markdown",
   "metadata": {
    "slideshow": {
     "slide_type": "subslide"
    }
   },
   "source": [
    "For some datasets, subset support is availble:\n",
    "- Defaults to netCDF Subset Service (NCSS)\n",
    "- Allows specifying latitude, longitude, time, and variables\n",
    "- NCSS downloads a netCDF file"
   ]
  },
  {
   "cell_type": "markdown",
   "metadata": {
    "slideshow": {
     "slide_type": "subslide"
    }
   },
   "source": [
    "To use NCSS, we can call `subset` and get a client."
   ]
  },
  {
   "cell_type": "code",
   "execution_count": null,
   "metadata": {},
   "outputs": [],
   "source": [
    "ds = TDSCatalog('http://thredds.ucar.edu/thredds/catalog/'\n",
    "                'grib/NCEP/GFS/Global_0p25deg/catalog.xml').datasets[1]\n",
    "ncss = ds.subset()\n",
    "ncss.variables"
   ]
  },
  {
   "cell_type": "markdown",
   "metadata": {
    "slideshow": {
     "slide_type": "subslide"
    }
   },
   "source": [
    "With this client we can set up a query for the data we want. In this case we request the next 24 hours of forecast:"
   ]
  },
  {
   "cell_type": "code",
   "execution_count": null,
   "metadata": {},
   "outputs": [],
   "source": [
    "query = ncss.query()\n",
    "query.lonlat_point(lon=-105, lat=40)\n",
    "now = datetime.utcnow()\n",
    "query.time_range(now, now + timedelta(days=1))\n",
    "query.variables('Temperature_surface')\n",
    "query.accept('netcdf4')"
   ]
  },
  {
   "cell_type": "markdown",
   "metadata": {
    "slideshow": {
     "slide_type": "subslide"
    }
   },
   "source": [
    "From here, we need to get the data, which will return it as an already opened netCDF4 object."
   ]
  },
  {
   "cell_type": "code",
   "execution_count": null,
   "metadata": {},
   "outputs": [],
   "source": [
    "nc = ncss.get_data(query)\n",
    "temp_data = nc.variables['Temperature_surface'][:]\n",
    "times = nc.variables['time'][:]\n",
    "fig, ax = plt.subplots(1, 1, figsize=(6, 6))\n",
    "ax.plot(times, temp_data)"
   ]
  },
  {
   "cell_type": "markdown",
   "metadata": {
    "slideshow": {
     "slide_type": "subslide"
    }
   },
   "source": [
    "We can also request the data for a particular time for a region of interest:"
   ]
  },
  {
   "cell_type": "code",
   "execution_count": null,
   "metadata": {},
   "outputs": [],
   "source": [
    "query = ncss.query()\n",
    "query.lonlat_box(east=-80, west=-90, south=35, north=45)\n",
    "query.time(now + timedelta(days=1))\n",
    "query.variables('Temperature_surface')\n",
    "query.accept('netcdf4')\n",
    "nc = ncss.get_data(query)"
   ]
  },
  {
   "cell_type": "code",
   "execution_count": null,
   "metadata": {
    "slideshow": {
     "slide_type": "subslide"
    }
   },
   "outputs": [],
   "source": [
    "fig, ax = plt.subplots(1, 1, figsize=(6, 6))\n",
    "ax.imshow(nc.variables['Temperature_surface'][0], cmap='RdBu')"
   ]
  },
  {
   "cell_type": "markdown",
   "metadata": {
    "slideshow": {
     "slide_type": "subslide"
    }
   },
   "source": [
    "## Exercise #3\n",
    "- Use `subset` to download a subset of data from one of:\n",
    "  - http://thredds.ucar.edu/thredds/catalog/grib/NCEP/WW3/Global/catalog.html\n",
    "  - http://thredds.ucar.edu/thredds/catalog/grib/NCEP/HRRR/CONUS_2p5km/catalog.html\n",
    "- Pick either a time-series or a 2D subset\n",
    "- Plot using either `plot` or `imshow`"
   ]
  },
  {
   "cell_type": "markdown",
   "metadata": {},
   "source": [
    "## A full Example"
   ]
  },
  {
   "cell_type": "code",
   "execution_count": null,
   "metadata": {},
   "outputs": [],
   "source": [
    "# Get the dataset handle\n",
    "top_cat = TDSCatalog('http://thredds.ucar.edu/thredds/catalog.xml')\n",
    "models_cat = top_cat.catalog_refs[0].follow()\n",
    "gfs_cat = models_cat.catalog_refs['GFS Quarter Degree Forecast'].follow()\n",
    "latest_gfs = gfs_cat.latest\n",
    "\n",
    "# Download a subset using NCSS\n",
    "now = datetime.utcnow()\n",
    "ncss = latest_gfs.subset()\n",
    "query = ncss.query().lonlat_point(lon=-86.50, lat=39.17)\n",
    "query.time_range(now, now + timedelta(days=3)).accept('netcdf4')\n",
    "query.variables('Temperature_surface')\n",
    "nc = ncss.get_data(query)\n",
    "\n",
    "# Plot\n",
    "fig, ax = plt.subplots(1, 1, figsize=(10, 10))\n",
    "temp_f = 1.8 * (nc.variables['Temperature_surface'][:] - 273.15) + 32\n",
    "ax.plot(temp_f, color='r')"
   ]
  },
  {
   "cell_type": "markdown",
   "metadata": {
    "slideshow": {
     "slide_type": "slide"
    }
   },
   "source": [
    "# Future plans for Siphon\n",
    "- Add curated list of servers\n",
    "- Support for access to meteorological uppear air archives\n",
    "- Support for TDS 5.0 CDM Remote Feature service\n",
    "- Search catalogs using CSW"
   ]
  },
  {
   "cell_type": "markdown",
   "metadata": {
    "slideshow": {
     "slide_type": "subslide"
    }
   },
   "source": [
    "## Resources\n",
    "- Siphon docs: https://unidata.github.io/siphon\n",
    "- Unidata Python Workshop: https://unidata.github.com/unidata-python-workshop\n",
    "- Unidata Python Gallery: https://unidata.github.com/python-gallery"
   ]
  }
 ],
 "metadata": {
  "kernelspec": {
   "display_name": "Python 3",
   "language": "python",
   "name": "python3"
  },
  "language_info": {
   "codemirror_mode": {
    "name": "ipython",
    "version": 3
   },
   "file_extension": ".py",
   "mimetype": "text/x-python",
   "name": "python",
   "nbconvert_exporter": "python",
   "pygments_lexer": "ipython3",
   "version": "3.7.6"
  }
 },
 "nbformat": 4,
 "nbformat_minor": 2
}
