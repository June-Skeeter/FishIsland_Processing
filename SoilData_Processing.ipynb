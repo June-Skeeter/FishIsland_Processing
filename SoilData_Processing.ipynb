{
 "cells": [
  {
   "cell_type": "code",
   "execution_count": 26,
   "metadata": {
    "collapsed": true
   },
   "outputs": [],
   "source": [
    "import pandas as pd\n",
    "import os\n",
    "import numpy as np\n",
    "import datetime as dt\n",
    "import matplotlib.pyplot as plt\n",
    "import time\n",
    "\n",
    "import statsmodels.formula.api as smf\n",
    "from statsmodels.tools import add_constant as ac\n",
    "from sklearn.linear_model import Ridge\n",
    "from sklearn.preprocessing import PolynomialFeatures\n",
    "from sklearn.pipeline import make_pipeline"
   ]
  },
  {
   "cell_type": "code",
   "execution_count": 27,
   "metadata": {
    "collapsed": true
   },
   "outputs": [],
   "source": [
    "def Daterize(df):\n",
    "    df['HrMn'] = df['HrMn'].astype(str)\n",
    "    df['Mn'] = df['HrMn'].str[-2:].astype(int)\n",
    "    df['Hr'] = df['HrMn'].astype(int).floordiv(100).astype(str).str.replace('24','00')\n",
    "    df.loc[df['Hr'] == '00',['DOY']]+=1\n",
    "    df['Hr'] = df['Hr'].astype(int)\n",
    "    df = df.set_index(pd.to_datetime(df['Year'] * 10000000 + df['DOY']*10000+df['Hr']*100+df['Mn'], format='%Y%j%H%M'))\n",
    "    return(df)\n",
    "\n",
    "def Deptherize(df,adj):\n",
    "    df = pd.concat([df,adj],axis=1,join = 'inner')\n",
    "    df['Table'] = -.01*df['Probe'] + df['Depth']\n",
    "    return(df)\n",
    "\n",
    "def Droperize(df,drop):\n",
    "    df = df.drop(drop, axis=1)\n",
    "    return(df)\n",
    "\n",
    "def Fluxerize(df,df2,key):\n",
    "    Coef = [6.37192,6.27367,6.27367]\n",
    "    df['HFP'] = df['HFP']*Coef[int(key)-1]\n",
    "    Bulk_Density = 200 ## kg/m3 -- estimate\n",
    "    Water_Density = 1000 ## kg/m3\n",
    "    C_Dry = 840 ## j/kg/C\n",
    "    C_Wet = 4184 ## j/kg/C\n",
    "    df['Tdiff'] = df['Temp_2_5'].diff()\n",
    "    df2.loc[df2['Period']<20,['Period']]=np.nan\n",
    "    df2['Period'] = df2['Period']**.5\n",
    "    df2['VWC'] = .5114*df2['Period']**3 -7.9851* df2['Period']**2 + 47.318*df2['Period'] -51.508\n",
    "    df['cs'] = Bulk_Density *( C_Dry + C_Wet*Water_Density/Bulk_Density*df2['VWC']*.01)\n",
    "    df['S'] = df['Tdiff']*df['cs']*.05/1800\n",
    "    return(df,df2)\n",
    "\n",
    "def Spike_Removalize(df,key):\n",
    "    if key == '1':\n",
    "        df.loc[df['VWC']<.17,'VWC']=np.nan\n",
    "    if key == '2' or key == '3':\n",
    "        df.loc[df['VWC']<.08,'VWC']=np.nan\n",
    "    return(df)\n",
    "def Resampleize(df):    \n",
    "    df = df.resample('30T').asfreq().interpolate('linear')\n",
    "    return(df)\n",
    "\n",
    "def Processize(dr,file,key,ADJ):\n",
    "    name = dr+'Water'+file\n",
    "    Water = pd.read_csv(name)\n",
    "    Water = Daterize(Water)\n",
    "    if key == '1':\n",
    "        Water.loc[Water.index<'2017-06-23 13:00:00','Depth']=np.nan\n",
    "    Water = Deptherize(Water,ADJ)\n",
    "    Water = Droperize(Water,['Year','DOY','HrMn','Hr','Mn','Date'])\n",
    "    Water = Spike_Removalize(Water,key)\n",
    "    Water = Resampleize(Water)\n",
    "    \n",
    "    Energy = pd.read_csv(dr+'Energy'+file)\n",
    "    Energy = Daterize(Energy)\n",
    "    Energy,Water = Fluxerize(Energy,Water,key)\n",
    "    Energy = Droperize(Energy,['Year','DOY','HrMn','Hr','Mn','BattV','Sig','Itemp','BTemp_Max','MTemp_Max','TTemp_Max','HFP_Max','BTemp_Min','MTemp_Min','TTemp_Min','HFP_Min'])\n",
    "    Energy.loc[Energy['HFP']<-100,'HFP']=np.nan\n",
    "    Energy.loc[Energy.index<'2017-06-23 14:00:00','Temp_2.5']=np.nan\n",
    "    \n",
    "    Water = Water.add_suffix('_'+key)\n",
    "    Energy = Energy.add_suffix('_'+key)\n",
    "    return(Energy,Water)"
   ]
  },
  {
   "cell_type": "code",
   "execution_count": 32,
   "metadata": {},
   "outputs": [],
   "source": [
    "Conductivity_2 = np.asanyarray([0.2,0.39,0.5,0.8,1.15])\n",
    "Conductivity_4 = np.asanyarray([0.18,0.35,0.5,0.7,0.9])\n",
    "VWC = np.asanyarray([.2,.4,.6,.8,1])\n",
    "d = {'2':Conductivity_2,'4':Conductivity_4,'VWC':VWC}\n",
    "Cond = pd.DataFrame(data = d)\n",
    "\n",
    "model2 = make_pipeline(PolynomialFeatures(2), Ridge(alpha = .1))\n",
    "model4 = make_pipeline(PolynomialFeatures(2), Ridge(alpha = .1))\n",
    "X = Cond['VWC'].values.reshape(-1, 1)\n",
    "Y = Cond['2'].values\n",
    "model2.fit(X,Y)\n",
    "Y = Cond['4'].values\n",
    "model4.fit(X,Y)\n",
    "\n",
    "Dpath = 'C:\\\\FishIsland_2017\\\\SoilStationData/'\n",
    "Whead = 'Year,DOY,HrMn,Depth,Temp,VWC,Period\\n'\n",
    "Ehead = 'Year,DOY,HrMn,BattV,Sig,Itemp,Temp_2_5,Temp_15,Temp_5,HFP,BTemp_Max,MTemp_Max,TTemp_Max,HFP_Max,BTemp_Min,MTemp_Min,TTemp_Min,HFP_Min\\n'\n",
    "\n",
    "def Adjerize(Probe,Date,CH,AL):\n",
    "    d = {'Probe':Probe,'Date':Date}\n",
    "    ADJ = pd.DataFrame(data = d)\n",
    "    ADJ = ADJ.set_index(pd.DatetimeIndex(ADJ['Date']))\n",
    "    ADJ = ADJ.resample('30T').ffill()\n",
    "    d = {'Active_Layer':AL,'Canopy_Height':CH,'Date':Date}\n",
    "    AL = pd.DataFrame(data = d)\n",
    "    AL = AL.set_index(pd.DatetimeIndex(AL['Date']))\n",
    "    AL = AL.drop('Date',axis = 1)\n",
    "    AL = AL.resample('30T').asfreq().interpolate('linear')\n",
    "    AL['Active_Layer'] = AL['Active_Layer']*.01\n",
    "    ADJ = pd.concat([ADJ,AL],axis = 1, join = 'outer')\n",
    "    return(ADJ)\n",
    "\n",
    "Probe = np.asanyarray([21,26,31,31,31])\n",
    "CH = np.asanyarray([8.1,8.3,11.3,14.0,14])\n",
    "AL = np.asanyarray([22,29.5,35,43.1,51.3])\n",
    "Date = np.asanyarray(['2017-6-22 11:30:00','2017-7-10 13:30:00','2017-8-1 15:00:00','2017-8-21 16:00:00','2017-9-13 15:00:00'])\n",
    "ADJ1 = Adjerize(Probe,Date,CH,AL)\n",
    "\n",
    "Probe = np.asanyarray([17,25,30,30,30])\n",
    "CH = np.asanyarray([13.3,15.5,17.4,23.0,23])\n",
    "AL = np.asanyarray([20,27.7,34.1,42.1,50.6])\n",
    "Date = np.asanyarray(['2017-6-22 00:00:00','2017-7-10 14:00:00','2017-8-1 15:00:00','2017-8-21 16:00:00','2017-9-13 15:00:00'])\n",
    "ADJ2 = Adjerize(Probe,Date,CH,AL)\n",
    "\n",
    "Probe = np.asanyarray([20,26,32,32,32])\n",
    "CH = np.asanyarray([8.1,8.3,11.3,20.3,20.3])\n",
    "AL = np.asanyarray([22.5,29.2,34.4,41.8,51.3])\n",
    "Date = np.asanyarray(['2017-6-22 00:00:00','2017-7-10 14:30:00','2017-8-1 15:00:00','2017-8-21 16:00:00','2017-9-13 15:00:00'])\n",
    "ADJ3 = Adjerize(Probe,Date,CH,AL)\n",
    "\n",
    "List = []\n",
    "for dr, sub, files in os.walk(Dpath):\n",
    "    for file in files:\n",
    "        if file[0:3] == 'Sat':\n",
    "            D = open(dr+file)\n",
    "            Data = D.readlines()\n",
    "            D.close()\n",
    "            energy = open(dr+'Processed/Energy'+file,'w')\n",
    "            water = open(dr+'Processed/Water'+file,'w')\n",
    "            energy.write(Ehead)\n",
    "            water.write(Whead)\n",
    "                \n",
    "            for line in Data:\n",
    "                if line[0:3] == '101':\n",
    "                    water.write(line[4:])\n",
    "                else:\n",
    "                    energy.write(line[4:])\n",
    "            water.close()\n",
    "            energy.close()\n",
    "            \n",
    "            if file == 'Sat3_Data.dat':\n",
    "                D = open(dr+'Processed/Water'+file)\n",
    "                Data = D.readlines()\n",
    "                D.close()\n",
    "E1,W1 = Processize('C:\\\\FishIsland_2017\\\\SoilStationData/Processed/','Sat1_Data.DAT','1',ADJ1)\n",
    "E2,W2 = Processize('C:\\\\FishIsland_2017\\\\SoilStationData/Processed/','Sat2_Data.DAT','2',ADJ2)\n",
    "E3,W3 = Processize('C:\\\\FishIsland_2017\\\\SoilStationData/Processed/','Sat3_Data.DAT','3',ADJ3)\n",
    "\n",
    "E = pd.concat([E1,E2,E3],axis = 1, join = 'outer')\n",
    "W = pd.concat([W1,W2,W3],axis = 1, join = 'outer')\n",
    "Master = pd.concat([E,W],axis =1, join = 'outer')\n",
    "\n",
    "\n",
    "Profile1 = (Master['Temp_5_1']-Master['Temp_2_5_1'])/.025 \n",
    "Profile2 = (Master['Temp_15_1']-Master['Temp_5_1'])/.1\n",
    "Profile3 = (Master['Temp_15_1']-Master['Temp_2_5_1'])/.125\n",
    "Profile = (Profile1 + Profile2 + Profile3)/3\n",
    "\n",
    "X = Master['VWC_1'].bfill().ffill().values.reshape(-1, 1)*.01\n",
    "Cond = model4.predict(X)\n",
    "     \n",
    "X2 = Master['VWC_2'].bfill().ffill().values.reshape(-1, 1)*.01\n",
    "Cond2 = model4.predict(X2)\n",
    "Master['HFX'] = -(Cond*.8+Cond2*.2)*(Master['Temp_15_1']-Master['Temp_2_5_1'])/.125\n",
    "Master['HFX'] = Master['HFX']+ (Master['S_1']*.8+Master['S_2']*.2)\n",
    "Master['Zo'] = Master['Canopy_Height_1']*.8+Master['Canopy_Height_2']*.2\n",
    "Master.to_csv(Dpath+'Soil_Data.csv')\n"
   ]
  },
  {
   "cell_type": "code",
   "execution_count": 34,
   "metadata": {},
   "outputs": [
    {
     "data": {
      "image/png": "[encoded data removed]",
      "text/plain": [
       "<matplotlib.figure.Figure at 0x2a4d60ca940>"
      ]
     },
     "metadata": {},
     "output_type": "display_data"
    },
    {
     "data": {
      "image/png": "[encoded data removed]",
      "text/plain": [
       "<matplotlib.figure.Figure at 0x2a4d94369e8>"
      ]
     },
     "metadata": {},
     "output_type": "display_data"
    }
   ],
   "source": [
    "plt.figure()\n",
    "plt.plot(Master['Zo'])\n",
    "plt.show()"
   ]
  },
  {
   "cell_type": "code",
   "execution_count": null,
   "metadata": {
    "collapsed": true
   },
   "outputs": [],
   "source": []
  },
  {
   "cell_type": "code",
   "execution_count": null,
   "metadata": {
    "collapsed": true
   },
   "outputs": [],
   "source": []
  }
 ],
 "metadata": {
  "kernelspec": {
   "display_name": "Python 3",
   "language": "python",
   "name": "python3"
  },
  "language_info": {
   "codemirror_mode": {
    "name": "ipython",
    "version": 3
   },
   "file_extension": ".py",
   "mimetype": "text/x-python",
   "name": "python",
   "nbconvert_exporter": "python",
   "pygments_lexer": "ipython3",
   "version": "3.6.2"
  }
 },
 "nbformat": 4,
 "nbformat_minor": 2
}
