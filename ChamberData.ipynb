{
 "cells": [
  {
   "cell_type": "markdown",
   "metadata": {},
   "source": [
    "## Chamber Data Processing"
   ]
  },
  {
   "cell_type": "code",
   "execution_count": 1,
   "metadata": {},
   "outputs": [],
   "source": [
    "import numpy as np\n",
    "import pandas as pd\n",
    "from matplotlib import pyplot as plt\n",
    "from scipy import stats\n",
    "import matplotlib as mpl\n",
    "mpl.rcParams[\"mathtext.default\"] = 'regular'#(default: 'regular')"
   ]
  },
  {
   "cell_type": "code",
   "execution_count": 2,
   "metadata": {
    "scrolled": false
   },
   "outputs": [
    {
     "name": "stdout",
     "output_type": "stream",
     "text": [
      "Position\n",
      "1    1.319918\n",
      "2    2.879647\n",
      "Name: Flux, dtype: float64\n"
     ]
    },
    {
     "data": {
      "image/png": "[encoded data removed]",
      "text/plain": [
       "<Figure size 216x252 with 1 Axes>"
      ]
     },
     "metadata": {
      "needs_background": "light"
     },
     "output_type": "display_data"
    }
   ],
   "source": [
    "class ChamberAnalysis:\n",
    "    def __init__(self,Path,flux):\n",
    "        self.Data = pd.read_csv(Path,delimiter = ',')\n",
    "        self.Data.loc[self.Data['Position']==3,'Position']=1\n",
    "Path = 'G:\\\\Other computers\\\\My Laptop\\\\FishIsland_2017/ChamberStationData/ChamberFluxes_All.csv'\n",
    "flux = 'CO2 Flux (umol/m2/s)'\n",
    "CH = ChamberAnalysis(Path,flux)\n",
    "\n",
    "\n",
    "# # CH.Data.loc[CH.Data.Flux>10,'Flux']=np.nan\n",
    "CH.Data['Flux']*=12.0107*1e-6 * 1800*2*24\n",
    "\n",
    "\n",
    "fig,ax=plt.subplots(figsize = (3,3.5))\n",
    "# Data = CH.by_site['Veg']\n",
    "# print(Data)\n",
    "# X  = np.arange(0,10,.5)\n",
    "# Data = [X,X*-1]\n",
    "Data = CH.Data\n",
    "# BP = [Data.loc[Data['Position']==1,'Flux'].dropna(),Data.loc[Data['Position']==2,'Flux'].dropna()]\n",
    "# bp0 = plt.boxplot(BP)\n",
    "# for item in bp0['medians']:\n",
    "#     item.set_color('#a02c2c')\n",
    "Data['PoMo'] = Data['Month'].astype(str)+Data['Position'].astype(str)\n",
    "    \n",
    "bp0 = Data[['Position','Flux']].boxplot(by='Position',ax=ax,return_type='dict')\n",
    "\n",
    "[[item.set_color('#a02c2c') for item in bp0[key]['medians']] for key in bp0.keys()]\n",
    "fig.suptitle(None)\n",
    "ax.set_title('Chamber ER')\n",
    "ax.set_ylabel('${u}mol m^{-2} s^{-1}$')\n",
    "# ax.set_xticklabels([1,2],)\n",
    "\n",
    "# ax.set_xticks([1,2]) \n",
    "ax.set_xticklabels(['Center','Rim'])\n",
    "# ax.set_xticklabels(['Center 7/10','Rim 7/10','Center 8/21','Rim 8/21'])\n",
    "ax.set_xlabel(None)\n",
    "# # plt.yscale('symlog')\n",
    "# plt.ylim(0,10)\n",
    "# plt.show()\n",
    "\n",
    "# print(CH.Data.groupby(['Position','Month']).mean())#.mean(axis=1))\n",
    "# print()\n",
    "print(CH.Data.groupby(['Position']).median()['Flux'])\n",
    "\n",
    "\n",
    "\n",
    "# print(CH.Data.groupby('Position').std()/(CH.Data[['Flux','Position']].groupby('Position').count())**.5*stats.t.ppf(.025,CH.Data[['Flux','Position']].groupby('Position').count()))#.std(axis=1))\n",
    "plt.tight_layout()\n",
    "plt.savefig('Fig4.png')\n",
    "\n",
    "# print(CH.Data.groupby('Position').count())\n",
    "\n",
    "# print(.63*1.13+.33*2.90)\n",
    "# print(.755*0.957289+.245*2.632228)\n",
    "\n",
    "\n"
   ]
  },
  {
   "cell_type": "code",
   "execution_count": 11,
   "metadata": {
    "scrolled": true
   },
   "outputs": [
    {
     "name": "stdout",
     "output_type": "stream",
     "text": [
      "15\n",
      "[0.69725738 0.30274262]\n",
      "3.062348005535675\n",
      "2.9188877817153633\n",
      "5.981235787251038\n",
      "0.14346022382031176\n"
     ]
    }
   ],
   "source": [
    "SubSet = CH.Data.loc[CH.Data.Month<8].copy()\n",
    "\n",
    "Mean = SubSet.groupby(['Position']).mean()['Flux'].values\n",
    "\n",
    "CI = (SubSet.groupby(['Position']).std()['Flux']/\n",
    "       SubSet.groupby(['Position']).count()['Flux']**.5)*stats.t.ppf(0.975,SubSet.groupby(['Position']).count()['Flux'])\n",
    "\n",
    "print(SubSet.groupby(['Position']).count()['Flux'].sum())\n",
    "\n",
    "U = Mean + CI\n",
    "L = Mean - CI\n",
    "\n",
    "C = 0.661\n",
    "R = 0.287 \n",
    "T = C+R\n",
    "C = C/T\n",
    "R = R/T\n",
    "\n",
    "F = np.array([C,R])\n",
    "\n",
    "\n",
    "print(F)\n",
    "# print(L)\n",
    "\n",
    "print((Mean*F).sum())\n",
    "print((CI*F).sum())\n",
    "\n",
    "print((U*F).sum())\n",
    "print((L*F).sum())\n"
   ]
  },
  {
   "cell_type": "code",
   "execution_count": 4,
   "metadata": {},
   "outputs": [],
   "source": [
    "# Path = 'C:/Illisarvik/ChamberData.csv'\n",
    "\n",
    "# print(Veg.groupby(Veg['Site']).mean())\n",
    "# print(Veg.groupby(Veg['Site']).std())\n",
    "# print(Veg)\n",
    "# Parse()\n",
    "# print(CH.Data.loc[CH.Data['Position']==1].groupby('Month').mean())"
   ]
  },
  {
   "cell_type": "code",
   "execution_count": null,
   "metadata": {},
   "outputs": [],
   "source": []
  },
  {
   "cell_type": "code",
   "execution_count": 21,
   "metadata": {},
   "outputs": [
    {
     "name": "stdout",
     "output_type": "stream",
     "text": [
      "   Unnamed: 0        Flux  Position ID  Month\n",
      "0          1A   20.809392         1  A      6\n",
      "1          1B   21.163738         1  B      6\n",
      "2          1C   25.045451         1  C      6\n",
      "3          1D         NaN         1  D      6\n",
      "4          2A         NaN         2  A      7\n",
      "5          2B         NaN         2  B      7\n",
      "6          2C         NaN         2  C      7\n",
      "7          2D         NaN         2  D      7\n",
      "8          3A         NaN         1  A      8\n",
      "9          3B         NaN         1  B      8\n",
      "10         3C         NaN         1  C      8\n",
      "11         3D         NaN         1  D      8\n",
      "12         1A   17.846197         1  A      6\n",
      "13         1B   16.354561         1  B      6\n",
      "14         1C   12.651110         1  C      6\n",
      "15         1D   15.276825         1  D      6\n",
      "16         2A   46.213089         2  A      7\n",
      "17         2B   34.267018         2  B      7\n",
      "18         2C  170.728201         2  C      7\n",
      "19         2D   25.291146         2  D      7\n",
      "20         3A   51.642460         1  A      8\n",
      "21         3B   18.568754         1  B      8\n",
      "22         3C   10.441970         1  C      8\n",
      "23         3D   19.217996         1  D      8\n",
      "24         1A   10.670707         1  A      6\n",
      "25         1B   12.236435         1  B      6\n",
      "26         1C   15.887190         1  C      6\n",
      "27         1D   10.779093         1  D      6\n",
      "28         2A   28.539729         2  A      7\n",
      "29         2B   26.633570         2  B      7\n",
      "30         2C   55.897631         2  C      7\n",
      "31         2D   32.391469         2  D      7\n",
      "32         3A   13.599517         1  A      8\n",
      "33         3B   11.380365         1  B      8\n",
      "34         3C    8.349281         1  C      8\n",
      "35         3D    9.851692         1  D      8\n"
     ]
    }
   ],
   "source": [
    "\n",
    "\n",
    "print(CH.Data)\n",
    "\n",
    "# print(CH.Data)\n",
    "# plt.figure()\n",
    "# plt.boxplot(data)\n",
    "# # print(data)\n",
    "\n",
    "# plt.show()"
   ]
  },
  {
   "cell_type": "code",
   "execution_count": 69,
   "metadata": {},
   "outputs": [],
   "source": [
    "\n",
    "# fake up some data\n",
    "spread = np.random.rand(50) * 100\n",
    "center = np.ones(25) * 50\n",
    "flier_high = np.random.rand(10) * 100 + 100\n",
    "flier_low = np.random.rand(10) * -100\n",
    "data = np.concatenate((spread, center, flier_high, flier_low), 0)\n",
    "\n",
    "# fake up some more data\n",
    "spread = np.random.rand(50) * 100\n",
    "center = np.ones(25) * 40\n",
    "flier_high = np.random.rand(10) * 100 + 100\n",
    "flier_low = np.random.rand(10) * -100\n",
    "d2 = np.concatenate((spread, center, flier_high, flier_low), 0)\n",
    "data.shape = (-1, 1)\n",
    "d2.shape = (-1, 1)\n",
    "# data = concatenate( (data, d2), 1 )\n",
    "# Making a 2-D array only works if all the columns are the\n",
    "# same length.  If they are not, then use a list instead.\n",
    "# This is actually more efficient because boxplot converts\n",
    "# a 2-D array into a list of vectors internally anyway.\n",
    "data = [data, d2, d2[::2, 0]]\n",
    "# multiple box plots on one figure"
   ]
  },
  {
   "cell_type": "code",
   "execution_count": null,
   "metadata": {},
   "outputs": [],
   "source": []
  }
 ],
 "metadata": {
  "kernelspec": {
   "display_name": "Python 3",
   "language": "python",
   "name": "python3"
  },
  "language_info": {
   "codemirror_mode": {
    "name": "ipython",
    "version": 3
   },
   "file_extension": ".py",
   "mimetype": "text/x-python",
   "name": "python",
   "nbconvert_exporter": "python",
   "pygments_lexer": "ipython3",
   "version": "3.8.8"
  }
 },
 "nbformat": 4,
 "nbformat_minor": 2
}
