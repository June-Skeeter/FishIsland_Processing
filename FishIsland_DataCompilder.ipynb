{
 "cells": [
  {
   "cell_type": "code",
   "execution_count": 28,
   "metadata": {
    "collapsed": true
   },
   "outputs": [],
   "source": [
    "import numpy as np\n",
    "import pandas as pd\n",
    "from matplotlib import pyplot as plt\n",
    "import datetime as dt\n",
    "import pytz\n",
    "%matplotlib inline\n",
    "\n",
    "import warnings\n",
    "warnings.filterwarnings('ignore')"
   ]
  },
  {
   "cell_type": "code",
   "execution_count": 22,
   "metadata": {
    "collapsed": true
   },
   "outputs": [],
   "source": [
    "Flux_Path_10_aut = 'C:/FishIsland_2017/FluxResults/FullDataSet/eddypro_FishIsland_UstarFill2_2017-09-15T071111_adv.csv'\n",
    "Flux_Path_1_aut = 'C:/FishIsland_2017/FluxResults/AutoLag/1Hz/eddypro_Test_full_output_2017-08-13T160956_adv.csv'\n",
    "Met_Path = 'C:/FishIsland_2017/MetStationData/CR1000_ClimateData_Updated.txt'\n",
    "Soil_Path = 'C:/FishIsland_2017/SoilStationData/Soil_Data.csv'"
   ]
  },
  {
   "cell_type": "code",
   "execution_count": 38,
   "metadata": {
    "collapsed": true
   },
   "outputs": [],
   "source": [
    "class Compile:\n",
    "    def __init__(self,Flux_Paths,Met,Soil,Suffix = None):\n",
    "        Flux_10 = self.Format(pd.read_csv(Flux_Paths[0],delimiter = ',',skiprows = 0,parse_dates={'datetime':[1,2]},header = 1,na_values = -9999),v=1,drop = [0,1])\n",
    "        Flux_1 = self.Format(pd.read_csv(Flux_Paths[1],delimiter = ',',skiprows = 0,parse_dates={'datetime':[1,2]},header = 1,na_values = -9999),v=1,drop = [0,1])\n",
    "        Flux_10['Hz']=10\n",
    "        Flux_1['Hz'] = 1\n",
    "        Flux = Flux_1.append(Flux_10)\n",
    "        Met = self.Format(pd.read_csv(Met,delimiter = ',',skiprows = 1,parse_dates={'datetime':[0]},header = 0),v=2,drop = [0])\n",
    "        Soil = self.Format(pd.read_csv(Soil,delimiter = ',',skiprows = 0,parse_dates={'datetime':[0]},header = 0),v=0,drop = [0])\n",
    "\n",
    "        self.Data = pd.concat([Flux,Met,Soil],axis = 1, join = 'outer')\n",
    "        self.Data['Minute'] = self.Data.index.hour*60+self.Data.index.minute\n",
    "        self.Wind_Bins(30)\n",
    "        self.PPFD_Bins(100)\n",
    "        self.Data['Day'] = np.floor(self.Data['DOY'])\n",
    "        \n",
    "        eastern = pytz.timezone('US/Eastern')\n",
    "        df.index = self.Data.index.tz_localize(pytz.utc).tz_convert(eastern)\n",
    "\n",
    "    def Format(self,df,v,drop):\n",
    "        df = df.ix[v:]\n",
    "        df = df.set_index(pd.DatetimeIndex(df.datetime))\n",
    "        df = df.drop(df.columns[drop],axis=1)\n",
    "        df = df.astype(float)\n",
    "        return(df)\n",
    "\n",
    "    def Wind_Bins(self,Bins):\n",
    "        self.bins = np.arange(0,360.1,Bins)\n",
    "        self.Data['Dir'] = pd.cut(self.Data['wind_dir'],bins=self.bins,labels = (self.bins[0:-1]+self.bins[1:])/2)\n",
    "\n",
    "    def PPFD_Bins(self,Bins):\n",
    "        self.bins = np.arange(0,self.Data['PPFD_Avg'].max()+1,Bins)\n",
    "        self.Data['Photon_Flux'] = pd.cut(self.Data['PPFD_Avg'],bins=self.bins,labels = (self.bins[0:-1]+self.bins[1:])/2)"
   ]
  },
  {
   "cell_type": "code",
   "execution_count": 39,
   "metadata": {
    "collapsed": true
   },
   "outputs": [],
   "source": [
    "class Process:\n",
    "    def __init__(self,Data,qc_thresh=None,rain_thresh=None,ch4_signal_thresh=None,spike_thresh=None,wind_drop=None,U_thresh=None):\n",
    "        self.Fluxes = ['H','LE','co2_flux','ch4_flux']\n",
    "        self.Data = Data\n",
    "#         self.Date_Drop('2017-06-23 15:00:00')\n",
    "        if qc_thresh!=None:\n",
    "            self.QC_Check(qc_thresh)\n",
    "        if wind_drop!=None:\n",
    "            self.Wind_Filter(wind_drop)\n",
    "        if U_thresh!=None:\n",
    "            self.Ustar_Check(U_thresh)\n",
    "        if rain_thresh!=None:\n",
    "            self.Rain_Check(rain_thresh)\n",
    "        if ch4_signal_thresh!=None:\n",
    "            self.Signal_Check(ch4_signal_thresh)\n",
    "        if spike_thresh!=None:\n",
    "            self.Spike_Removal(spike_thresh)\n",
    "        self.NAN_Check()\n",
    "\n",
    "    def Date_Drop(self,Date):\n",
    "        self.Data = self.Data.drop(self.Data[self.Data.index<Date].index)\n",
    "    \n",
    "    def QC_Check(self,thresh):\n",
    "        for var in self.Fluxes:\n",
    "            self.Data[var+'_drop'] = 0\n",
    "            self.Data.loc[self.Data['qc_'+var]>=thresh,[var,var+'_drop']]=[np.nan,1]\n",
    "            \n",
    "    def Wind_Filter(self,width):\n",
    "        for var in self.Fluxes:\n",
    "            self.Data.loc[((self.Data['wind_dir']>215-width)&(self.Data['wind_dir']<215+width)),[var,var+'_drop']]=[np.nan,1]\n",
    "        \n",
    "    def Ustar_Check(self,U_thresh):\n",
    "        for var in self.Fluxes:\n",
    "            self.Data.loc[self.Data['u*']<U_thresh,[var,var+'_drop']]=[np.nan,1]\n",
    "        \n",
    "    def Rain_Check(self,thresh):\n",
    "        self.Data['Rain_diff'] = self.Data['Rain_mm_Tot'].diff()\n",
    "        for var in self.Fluxes:\n",
    "            if var!='ch4_flux':\n",
    "                self.Data.loc[self.Data['Rain_mm_Tot']>thresh[0],[var,var+'_drop']]=[np.nan,1]\n",
    "            else:\n",
    "                self.Data.loc[self.Data['Rain_mm_Tot']>thresh[1],[var,var+'_drop']]=[np.nan,1]\n",
    "#            self.Data.loc[self.Data['Rain_diff']<thresh,[var,var+'_drop']]=[np.nan,1]\n",
    "            \n",
    "    def Signal_Check(self,thresh):\n",
    "        self.Data['ch4_noSSFilter'] = self.Data['ch4_flux']\n",
    "        self.Data.loc[self.Data['rssi_77_mean']<thresh,['ch4_flux','ch4_flux_drop']] = [np.nan,1]\n",
    "                              \n",
    "    def Spike_Removal(self,z_thresh):\n",
    "        for var in self.Fluxes:\n",
    "            series = self.Data[var].dropna()\n",
    "            di1 = series.diff()\n",
    "            di1[:-1] = di1[1:]\n",
    "            di = di1.diff()\n",
    "            MD = di.median()\n",
    "            MAD = np.abs(di-MD).median()\n",
    "            F1 = di<MD-(z_thresh*MAD/0.6745)\n",
    "            F2 = di>MD+(z_thresh*MAD/0.6745)\n",
    "            series.loc[F1==True]=np.nan\n",
    "            series.loc[F2==True]=np.nan\n",
    "            Droppers = series.index[np.isnan(series)==True]\n",
    "            VAR = self.Data[var]\n",
    "            VAR.ix[Droppers] = np.nan\n",
    "            dina = VAR.diff()\n",
    "            dina[:-1] = dina[1:]\n",
    "            dina2 = VAR.diff()\n",
    "            NaMid = VAR.index[((np.isnan(dina)==True)&(np.isnan(dina2)==True))]\n",
    "            VAR.ix[NaMid] = np.nan\n",
    "            self.Data[var] = VAR\n",
    "                     \n",
    "    def NAN_Check(self):\n",
    "        for var in self.Fluxes:\n",
    "            self.Data.loc[np.isnan(self.Data[var]) == True,[var+'_drop']]=1"
   ]
  },
  {
   "cell_type": "code",
   "execution_count": null,
   "metadata": {},
   "outputs": [],
   "source": [
    "Comp = Compile([Flux_Path_10_aut,Flux_Path_1_aut],Met_Path,Soil_Path,'Cov')\n",
    "Data = Comp.Data\n",
    "Proc = Process(Data,qc_thresh=2,rain_thresh=[.5,0],ch4_signal_thresh=10,spike_thresh=4,wind_drop = 30,U_thresh=.1)\n",
    "Data = Proc.Data\n"
   ]
  },
  {
   "cell_type": "code",
   "execution_count": 26,
   "metadata": {},
   "outputs": [
    {
     "data": {
      "image/png": "[encoded data removed]",
      "text/plain": [
       "<matplotlib.figure.Figure at 0x121eaf4d5f8>"
      ]
     },
     "metadata": {},
     "output_type": "display_data"
    }
   ],
   "source": [
    "plt.figure()\n",
    "plt.plot(Data['Zo'])\n",
    "plt.show()"
   ]
  },
  {
   "cell_type": "code",
   "execution_count": 27,
   "metadata": {
    "collapsed": true
   },
   "outputs": [],
   "source": [
    "Data.to_csv('FI_Data.csv')"
   ]
  }
 ],
 "metadata": {
  "kernelspec": {
   "display_name": "Python 3",
   "language": "python",
   "name": "python3"
  },
  "language_info": {
   "codemirror_mode": {
    "name": "ipython",
    "version": 3
   },
   "file_extension": ".py",
   "mimetype": "text/x-python",
   "name": "python",
   "nbconvert_exporter": "python",
   "pygments_lexer": "ipython3",
   "version": "3.6.2"
  }
 },
 "nbformat": 4,
 "nbformat_minor": 2
}
