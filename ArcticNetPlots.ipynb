{
 "cells": [
  {
   "cell_type": "code",
   "execution_count": 59,
   "metadata": {},
   "outputs": [
    {
     "data": {
      "text/html": [
       "<script>requirejs.config({paths: { 'plotly': ['https://cdn.plot.ly/plotly-latest.min']},});if(!window.Plotly) {{require(['plotly'],function(plotly) {window.Plotly=plotly;});}}</script>"
      ],
      "text/vnd.plotly.v1+html": [
       "<script>requirejs.config({paths: { 'plotly': ['https://cdn.plot.ly/plotly-latest.min']},});if(!window.Plotly) {{require(['plotly'],function(plotly) {window.Plotly=plotly;});}}</script>"
      ]
     },
     "metadata": {},
     "output_type": "display_data"
    }
   ],
   "source": [
    "import pandas as pd\n",
    "import numpy as np\n",
    "import plotly\n",
    "from matplotlib import pyplot as plt\n",
    "import plotly.plotly as py\n",
    "import plotly.graph_objs as go\n",
    "from plotly import tools\n",
    "\n",
    "from plotly import __version__\n",
    "from plotly.offline import download_plotlyjs, init_notebook_mode, plot, iplot\n",
    "\n",
    "\n",
    "init_notebook_mode(connected=True)\n",
    "%matplotlib inline"
   ]
  },
  {
   "cell_type": "code",
   "execution_count": 80,
   "metadata": {},
   "outputs": [],
   "source": [
    "Path = 'FI_Data.csv'#_Filled.csv\n",
    "df = pd.read_csv(Path,delimiter = ',',header = 0)\n",
    "df = df.set_index(pd.DatetimeIndex(df.datetime))\n",
    "Data = df.drop(df.columns[0],axis=1)\n",
    "Daily = Data.groupby(Data.index.dayofyear).mean()\n",
    "Daily[['PPFD','Rain']] = Data[['PPFD_Avg','Rain_mm_Tot']].groupby(Data.index.dayofyear).sum()"
   ]
  },
  {
   "cell_type": "code",
   "execution_count": 92,
   "metadata": {},
   "outputs": [
    {
     "data": {
      "text/plain": [
       "<Container object of 86 artists>"
      ]
     },
     "execution_count": 92,
     "metadata": {},
     "output_type": "execute_result"
    },
    {
     "data": {
      "image/png": "[encoded data removed]",
      "text/plain": [
       "<matplotlib.figure.Figure at 0x1cb478e4668>"
      ]
     },
     "metadata": {},
     "output_type": "display_data"
    }
   ],
   "source": [
    "plt.figure()\n",
    "plt.bar(Daily.index,Daily['Rain']/10)#.cumsum()/10)\n",
    "\n",
    "\n",
    "# from plotly.graph_objs import Scatter, Figure, Layout\n",
    "\n",
    "# plot([Scatter(x=[1, 2, 3], y=[3, 1, 6])])\n",
    "\n"
   ]
  },
  {
   "cell_type": "code",
   "execution_count": 104,
   "metadata": {},
   "outputs": [
    {
     "name": "stdout",
     "output_type": "stream",
     "text": [
      "This is the format of your plot grid:\n",
      "[ (1,1) x1,y1 ]  [ (1,2) x2,y2 ]\n",
      "[ (2,1) x3,y3 ]  [ (2,2) x4,y4 ]\n",
      "\n"
     ]
    },
    {
     "name": "stderr",
     "output_type": "stream",
     "text": [
      "C:\\Anaconda3\\lib\\site-packages\\plotly\\offline\\offline.py:459: UserWarning:\n",
      "\n",
      "Your filename `FI_Climate` didn't end with .html. Adding .html to the end of your file.\n",
      "\n"
     ]
    },
    {
     "data": {
      "text/plain": [
       "'file://C:\\\\Users\\\\wesle\\\\FishIsland_Processing\\\\FI_Climate.html'"
      ]
     },
     "execution_count": 104,
     "metadata": {},
     "output_type": "execute_result"
    }
   ],
   "source": [
    "fig = tools.make_subplots(rows=2, cols=2,subplot_titles=('Air Temperature', 'Photon Flux Density',\n",
    "                                                         'Ground Temps','Water Table & Precip'))\n",
    "\n",
    "fig.append_trace(trace1, 1, 1)\n",
    "fig.append_trace(trace2, 1, 2)\n",
    "fig.append_trace(trace3, 2, 1)\n",
    "fig.append_trace(trace4, 2, 2)\n",
    "fig.append_trace(trace5, 2, 2)\n",
    "\n",
    "\n",
    "fig['layout']['xaxis1'].update( range=[174, 256])\n",
    "fig['layout']['xaxis3'].update(title='Day of Year', range=[174, 256])\n",
    "fig['layout']['yaxis1'].update(title='Degrees C',range=[-5,30])\n",
    "fig['layout']['yaxis2'].update(title='mmol m<sup>-2</sup> m<sup>-d</sup>', range=[0, 35])\n",
    "fig['layout']['yaxis3'].update(title='Ground Temps', range=[0, 11])\n",
    "fig['layout']['yaxis4'].update(title='depth cm', range=[-20, 0])\n",
    "fig['layout']['yaxis8'].update(title='rainfall cm', range=[0, 1.6])\n",
    "fig['layout'].update(showlegend=False, title='Climate Conditions')\n",
    "\n",
    "\n",
    "\n",
    "# In this example, I am only doing it for the last subplot, but if you wanted to do if for all, \n",
    "# Just change to range(1,5)\n",
    "\n",
    "for k in range(4,5):  \n",
    "    fig['layout'].update({'yaxis{}'.format(k+4): dict(anchor='x'+str(k),\n",
    "                                                          overlaying='y'+str(k),\n",
    "                                                          side='right',\n",
    "                                                         )\n",
    "                            })\n",
    "\n",
    "trace1 = go.Scatter(\n",
    "        y=Daily['AirTC_Avg'],\n",
    "        x=Daily.index,\n",
    "        marker = dict(\n",
    "        size = 10,\n",
    "        color = 'rgba(160, 0, 0, .8)',),\n",
    "        error_y=dict(\n",
    "            type='data',\n",
    "            array=Daily_Max['AirTC_Avg']-Daily_Min['AirTC_Avg'],\n",
    "            visible=True,\n",
    "        color = 'rgba(100, 0, 0, .5)',\n",
    "        ),\n",
    "    name = 'Air Temp'\n",
    "    )\n",
    "\n",
    "trace2 = go.Bar(\n",
    "        y=Daily['PPFD']/1000,\n",
    "        x=Daily.index,\n",
    "        name='Photon Flux',\n",
    "        marker=dict(\n",
    "            color='rgb(180, 180, 0)'\n",
    "        ),\n",
    "    \n",
    "    yaxis='y2',\n",
    ")\n",
    "\n",
    "trace3 = go.Scatter(\n",
    "        y=Daily['Temp_2_5_1'],\n",
    "        x=Daily.index,\n",
    "        name='Soil Temp',\n",
    "        marker=dict(\n",
    "            color='rgb(180, 0, 0)'\n",
    "        ),\n",
    "    \n",
    "    yaxis='y3',\n",
    ")\n",
    "\n",
    "\n",
    "trace4 = go.Scatter(\n",
    "        y=Daily['Table_1']*100,\n",
    "        x=Daily.index,\n",
    "        name='Water Table',\n",
    "        marker=dict(\n",
    "            color='rgb(0, 0, 180)'\n",
    "        ),\n",
    "    \n",
    "    yaxis='y4',\n",
    ")\n",
    "\n",
    "trace5 = go.Bar(\n",
    "        y=Daily['Rain']/10,\n",
    "        x=Daily.index,\n",
    "        name='Rain',\n",
    "        marker=dict(\n",
    "            color='rgb(0, 100, 180)'\n",
    "        ),\n",
    "    \n",
    "    yaxis='y8',\n",
    ")\n",
    "    \n",
    "    \n",
    "## This part is important!!! you have to manually assing the data to the axis even \n",
    "# though you do it when defining trace 5\n",
    "fig['data'][4].update(yaxis='y'+str(8))\n",
    "plot(fig, filename='FI_Climate')\n"
   ]
  },
  {
   "cell_type": "code",
   "execution_count": null,
   "metadata": {},
   "outputs": [],
   "source": [
    "data = [go.Scatter(\n",
    "        y=Daily['AirTC_Avg'],\n",
    "        x=Daily.index,\n",
    "        marker = dict(\n",
    "        size = 10,\n",
    "        color = 'rgba(160, 0, 0, .8)',),\n",
    "        error_y=dict(\n",
    "            type='data',\n",
    "            array=Daily_Max['AirTC_Avg']-Daily_Min['AirTC_Avg'],\n",
    "            visible=True,\n",
    "        color = 'rgba(100, 0, 0, .5)',\n",
    "        ),\n",
    "    name = 'Daily Range'\n",
    "    )]#,\n",
    "#     go.Scatter(\n",
    "#         x=X,\n",
    "#         y=Y3,\n",
    "#         error_y=dict(\n",
    "#             type='data',\n",
    "#             array=y_s3,\n",
    "#             visible=True\n",
    "#         ),\n",
    "#         name='Transition'\n",
    "#     ),\n",
    "#     go.Scatter(\n",
    "#         x=X,\n",
    "#         y=Y,\n",
    "#         error_y=dict(\n",
    "#             type='data',\n",
    "#             array=y_s,\n",
    "#             visible=True\n",
    "#         ),\n",
    "#         name='Center'\n",
    "#     )\n",
    "# ]\n",
    "layout = dict(title = 'Air Temperatures at Fish Island',\n",
    "              xaxis = dict(title = 'Day of Year'),\n",
    "              yaxis = dict(title = 'Temperature (degrees C)'),\n",
    "              )\n",
    "\n",
    "fig = dict(data=data, layout=layout)\n",
    "\n",
    "py.iplot(fig, filename='FI_AirTemps')"
   ]
  },
  {
   "cell_type": "code",
   "execution_count": null,
   "metadata": {},
   "outputs": [],
   "source": [
    "bins = np.arange(0,360.1,45)\n",
    "Data['Dir'] = pd.cut(Data['wind_dir'],bins=bins,labels = (bins[0:-1]+bins[1:])/2)\n",
    "\n",
    "def WindG(Data,r,qt,color,name,LastGroup=None):\n",
    "#     Q0 = Data[r].quantile(qt[0])\n",
    "#     Q1 = Data[r].quantile(qt[1])\n",
    "#     Temp = Data.loc[(Data[r]<=Q1) & (Data[r]>=Q0)] ## For Quantile Plots\n",
    "    Temp = Data.loc[(Data[r]<=qt[1]) & (Data[r]>=qt[0])] ## For categories Plots\n",
    "    WindGroups = Temp.groupby(Temp['Dir']).count()/(Data.groupby(Data['Dir']).count()*0+1)/Data.count()*100\n",
    "    WindGroups.loc[WindGroups[r]==np.nan] = 0\n",
    "    try:\n",
    "        WindGroups += LastGroup\n",
    "    except:\n",
    "        pass\n",
    "    trace = go.Area(\n",
    "        r=WindGroups[r],\n",
    "        t=WindGroups.index,#-(WindGroups.index[0]-WindGroups.index[1])/2,\n",
    "        name=name,\n",
    "        marker=dict(\n",
    "            color=color\n",
    "        )\n",
    "    )\n",
    "    return(trace,WindGroups)\n",
    "r = 'wind_speed'\n",
    "colors = ['rgb(150,200,250)','rgb(100,150,250)','rgb(50,100,250)','rgb(0,50,250)']\n",
    "trace1,Last = WindG(Data,r,[0,1],colors[0],'0-1')\n",
    "trace2,Last = WindG(Data,r,[1,2],colors[1],'1-2',Last)\n",
    "trace3,Last = WindG(Data,r,[2,3],colors[2],'2-3',Last)\n",
    "trace4,Last = WindG(Data,r,[3,100],colors[3],'>3',Last)\n",
    "\n",
    "data = [trace4, trace3, trace2, trace1]\n",
    "layout = go.Layout(\n",
    "    title='Wind Rose - Fish Island',\n",
    "    font=dict(\n",
    "        size=16\n",
    "    ),\n",
    "    legend=dict(\n",
    "        font=dict(\n",
    "            size=16\n",
    "        )\n",
    "    ),\n",
    "    radialaxis=dict(\n",
    "        ticksuffix='%'\n",
    "    ),\n",
    "    orientation=270\n",
    ")\n",
    "fig = go.Figure(data=data, layout=layout)\n",
    "py.iplot(fig, filename='polar-area-chart2')"
   ]
  },
  {
   "cell_type": "code",
   "execution_count": null,
   "metadata": {},
   "outputs": [],
   "source": [
    "\n"
   ]
  },
  {
   "cell_type": "code",
   "execution_count": null,
   "metadata": {},
   "outputs": [],
   "source": []
  },
  {
   "cell_type": "code",
   "execution_count": null,
   "metadata": {
    "collapsed": true
   },
   "outputs": [],
   "source": []
  },
  {
   "cell_type": "code",
   "execution_count": null,
   "metadata": {},
   "outputs": [],
   "source": []
  },
  {
   "cell_type": "code",
   "execution_count": null,
   "metadata": {},
   "outputs": [],
   "source": [
    "import plotly.figure_factory as ff\n",
    "hist_data = [Data['co2_flux'].dropna()]\n",
    "group_labels = ['CO<sub>2</sub> Fluxes']\n",
    "colors=['rgb(0,250,100)']\n",
    "f1 = ff.create_distplot(hist_data, group_labels,colors=colors,bin_size = .1)\n",
    "\n",
    "hist_data = [Data['ch4_flux'].dropna()]\n",
    "group_labels = ['CH<sub>4</sub> Fluxes']\n",
    "colors=['rgb(250,0,100)']\n",
    "f2 = ff.create_distplot(hist_data, group_labels,colors=colors,bin_size = .001)\n",
    "\n",
    "# fig = tools.make_subplots(rows=1, cols=2)\n",
    "\n",
    "# fig.append_trace(f1, 1, 1)\n",
    "# fig.append_trace(f2, 1, 2)\n",
    "# py.iplot(f1, filename='Basic Distplot')\n",
    "\n",
    "distplot1=f1['data']\n",
    "distplot2=f2['data']\n",
    "for item in distplot1:\n",
    "    item.pop('xaxis', None)\n",
    "    item.pop('yaxis', None)\n",
    "for item in distplot2:\n",
    "    item.pop('xaxis', None)\n",
    "    item.pop('yaxis', None)\n",
    "my_fig = tools.make_subplots( subplot_titles=('Title1', 'Title2'),\n",
    "#   specs=[[{}, {'rowspan': 2}], #rowspan=2 means that we  concatenate  (1,2) with (2,2) into one cell encoded (1,2) \n",
    "#          [{},  None]],                       \n",
    "    rows=2,\n",
    "    cols=2\n",
    "    )\n",
    "my_fig.append_trace(distplot1[0], 1, 1)\n",
    "my_fig.append_trace(distplot1[1], 1, 1)\n",
    "my_fig.append_trace(distplot1[2], 2, 1)\n",
    "my_fig.append_trace(distplot2[0], 1, 2)\n",
    "my_fig.append_trace(distplot2[1], 1, 2)\n",
    "my_fig.append_trace(distplot2[2], 2, 2)\n",
    "\n",
    "py.iplot(my_fig, filename='Dual Distplot')"
   ]
  },
  {
   "cell_type": "code",
   "execution_count": null,
   "metadata": {},
   "outputs": [],
   "source": [
    "Roll = pd.rolling(Daily, window=7, min_periods=1).mean()\n",
    "Roll_Max = pd.rolling(Daily_Max, window=7, min_periods=1).max()\n",
    "Roll_Min = pd.rolling(Daily_Min, window=7, min_periods=1).min()"
   ]
  },
  {
   "cell_type": "code",
   "execution_count": null,
   "metadata": {},
   "outputs": [],
   "source": [
    "data = [go.Scatter(\n",
    "        y=Roll['co2_flux'],\n",
    "        x=Roll.index,\n",
    "        marker = dict(\n",
    "        size = 10,\n",
    "        color = 'rgba(152, 0, 0, .8)',\n",
    "        line = dict(\n",
    "            width = 2,\n",
    "            color = 'rgb(0, 0, 0)'\n",
    "        )),\n",
    "        error_y=dict(\n",
    "            type='data',\n",
    "            array=Daily_Max['co2_flux']-Daily_Min['co2_flux'],\n",
    "            visible=True\n",
    "        ),\n",
    "    name = 'Weekly Range'\n",
    "    )]#,\n",
    "#     go.Scatter(\n",
    "#         x=X,\n",
    "#         y=Y3,\n",
    "#         error_y=dict(\n",
    "#             type='data',\n",
    "#             array=y_s3,\n",
    "#             visible=True\n",
    "#         ),\n",
    "#         name='Transition'\n",
    "#     ),\n",
    "#     go.Scatter(\n",
    "#         x=X,\n",
    "#         y=Y,\n",
    "#         error_y=dict(\n",
    "#             type='data',\n",
    "#             array=y_s,\n",
    "#             visible=True\n",
    "#         ),\n",
    "#         name='Center'\n",
    "#     )\n",
    "# ]\n",
    "layout = dict(title = 'CO<sub>2</sub> at Fish Island',\n",
    "              xaxis = dict(title = 'Day of Year'),\n",
    "              yaxis = dict(title = 'Temperature (degrees C)'),\n",
    "              )\n",
    "\n",
    "fig = dict(data=data, layout=layout)\n",
    "\n",
    "py.iplot(fig, filename='FI_AirTemps')"
   ]
  },
  {
   "cell_type": "code",
   "execution_count": null,
   "metadata": {
    "collapsed": true
   },
   "outputs": [],
   "source": []
  }
 ],
 "metadata": {
  "kernelspec": {
   "display_name": "Python 3",
   "language": "python",
   "name": "python3"
  },
  "language_info": {
   "codemirror_mode": {
    "name": "ipython",
    "version": 3
   },
   "file_extension": ".py",
   "mimetype": "text/x-python",
   "name": "python",
   "nbconvert_exporter": "python",
   "pygments_lexer": "ipython3",
   "version": "3.6.2"
  }
 },
 "nbformat": 4,
 "nbformat_minor": 2
}
